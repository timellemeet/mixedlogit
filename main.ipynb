{
 "cells": [
  {
   "cell_type": "markdown",
   "metadata": {},
   "source": [
    "id: household\n",
    "\n",
    "Choices:  \n",
    "- heinz41  \n",
    "- heinz32  \n",
    "- heinz28  \n",
    "- hunts32  \n",
    "\n",
    "variables  \n",
    "- disp (1/0)  \n",
    "- feat (1/0)  \n",
    "- price (Log?)  "
   ]
  },
  {
   "cell_type": "markdown",
   "metadata": {},
   "source": [
    "Running the model"
   ]
  },
  {
   "cell_type": "code",
   "execution_count": 6,
   "metadata": {},
   "outputs": [],
   "source": [
    "from src.main import Mixedlogit, datasetloader \n",
    "\n",
    "dataset = datasetloader(\"n 1000 - seed 1234 - time 2019-06-20-134806.pickle\")\n",
    "\n",
    "mixedlogit = Mixedlogit(dataset, \"bigbatch\")\n",
    "\n",
    "# #ndraws 50\n",
    "mixedlogit.fit(drawtype=\"pseudo\", n_draws=50, verbose=1, save=\"Base/parallel-1\", start=0, end=200, parallel=True)\n",
    "mixedlogit.fit(drawtype=\"pseudo\", n_draws=50, verbose=1, save=\"Base/parallel-2\", start=200, end=400, parallel=True)\n",
    "mixedlogit.fit(drawtype=\"pseudo\", n_draws=50, verbose=1, save=\"Base/parallel-3\", start=400, end=600, parallel=True)\n",
    "mixedlogit.fit(drawtype=\"pseudo\", n_draws=50, verbose=1, save=\"Base/parallel-4\", start=600, end=800, parallel=True)\n",
    "mixedlogit.fit(drawtype=\"pseudo\", n_draws=50, verbose=1, save=\"Base/parallel-5\", start=800, end=1000, parallel=True)\n",
    "\n",
    "# #ndraws 100\n",
    "mixedlogit.fit(drawtype=\"pseudo\", n_draws=100, verbose=1, save=\"Base/parallel-1\", start=0, end=200, parallel=True)\n",
    "mixedlogit.fit(drawtype=\"pseudo\", n_draws=100, verbose=1, save=\"Base/parallel-2\", start=200, end=400, parallel=True)\n",
    "mixedlogit.fit(drawtype=\"pseudo\", n_draws=100, verbose=1, save=\"Base/parallel-3\", start=400, end=600, parallel=True)\n",
    "mixedlogit.fit(drawtype=\"pseudo\", n_draws=100, verbose=1, save=\"Base/parallel-4\", start=600, end=800, parallel=True)\n",
    "mixedlogit.fit(drawtype=\"pseudo\", n_draws=100, verbose=1, save=\"Base/parallel-5\", start=800, end=1000, parallel=True)"
   ]
  },
  {
   "cell_type": "code",
   "execution_count": null,
   "metadata": {},
   "outputs": [
    {
     "name": "stdout",
     "output_type": "stream",
     "text": [
      "Fitting 200 datasets \n",
      "\n",
      "Executing code in parallel \n",
      "\n"
     ]
    },
    {
     "name": "stderr",
     "output_type": "stream",
     "text": [
      "[Parallel(n_jobs=-1)]: Using backend LokyBackend with 72 concurrent workers.\n",
      "[Parallel(n_jobs=-1)]: Done   1 tasks      | elapsed: 12.8min\n"
     ]
    }
   ],
   "source": [
    "from src.main import Mixedlogit, datasetloader \n",
    "\n",
    "dataset = datasetloader(\"n 1000 - seed 1234 - time 2019-06-20-134806.pickle\")\n",
    "\n",
    "mixedlogit = Mixedlogit(dataset, \"bigbatch\")\n",
    "\n",
    "\n",
    "mixedlogit.fit(drawtype=\"pseudo\", n_draws=250, verbose=1, save=\"Big/250\", start=0, end=200, parallel=True)\n",
    "\n",
    "mixedlogit.fit(drawtype=\"pseudo\", n_draws=500, verbose=1, save=\"Big/500\", start=0, end=200, parallel=True)\n",
    "\n",
    "mixedlogit.fit(drawtype=\"pseudo\", n_draws=1000, verbose=1, save=\"Big/1000\", start=0, end=200, parallel=True)\n",
    "\n",
    "mixedlogit.fit(drawtype=\"pseudo\", n_draws=2000, verbose=1, save=\"Big/2000\", start=0, end=200, parallel=True)"
   ]
  },
  {
   "cell_type": "code",
   "execution_count": 1,
   "metadata": {},
   "outputs": [
    {
     "name": "stdout",
     "output_type": "stream",
     "text": [
      "Fitting 500 datasets \n",
      "\n",
      "Executing code in parallel \n",
      "\n"
     ]
    },
    {
     "name": "stderr",
     "output_type": "stream",
     "text": [
      "[Parallel(n_jobs=-1)]: Using backend LokyBackend with 72 concurrent workers.\n",
      "[Parallel(n_jobs=-1)]: Done   1 tasks      | elapsed:  1.5min\n",
      "[Parallel(n_jobs=-1)]: Done  18 tasks      | elapsed:  3.2min\n",
      "[Parallel(n_jobs=-1)]: Done  37 tasks      | elapsed:  4.3min\n",
      "[Parallel(n_jobs=-1)]: Done  56 tasks      | elapsed:  4.9min\n",
      "[Parallel(n_jobs=-1)]: Done  77 tasks      | elapsed:  5.8min\n",
      "[Parallel(n_jobs=-1)]: Done  98 tasks      | elapsed:  6.7min\n",
      "[Parallel(n_jobs=-1)]: Done 121 tasks      | elapsed:  7.7min\n",
      "[Parallel(n_jobs=-1)]: Done 144 tasks      | elapsed:  8.7min\n",
      "[Parallel(n_jobs=-1)]: Done 169 tasks      | elapsed:  9.8min\n",
      "[Parallel(n_jobs=-1)]: Done 194 tasks      | elapsed: 11.1min\n",
      "[Parallel(n_jobs=-1)]: Done 221 tasks      | elapsed: 12.2min\n",
      "[Parallel(n_jobs=-1)]: Done 248 tasks      | elapsed: 13.2min\n",
      "[Parallel(n_jobs=-1)]: Done 277 tasks      | elapsed: 14.7min\n",
      "[Parallel(n_jobs=-1)]: Done 306 tasks      | elapsed: 16.4min\n",
      "[Parallel(n_jobs=-1)]: Done 337 tasks      | elapsed: 17.8min\n",
      "[Parallel(n_jobs=-1)]: Done 408 out of 500 | elapsed: 21.0min remaining:  4.7min\n",
      "[Parallel(n_jobs=-1)]: Done 459 out of 500 | elapsed: 23.1min remaining:  2.1min\n",
      "[Parallel(n_jobs=-1)]: Done 500 out of 500 | elapsed: 26.6min finished\n",
      "[Parallel(n_jobs=-1)]: Using backend LokyBackend with 72 concurrent workers.\n"
     ]
    },
    {
     "name": "stdout",
     "output_type": "stream",
     "text": [
      "Finished parallel excuting of 500 jobs in 0:26:37, time per job 0:00:03\n",
      "\n",
      "Initializing save\n",
      "All results saved to pickle: Results/Base/parallel-1 - dgp bigbatch- start 0 end 499 - drawtype pseudo - ndraws 25- timestamp 2019-06-22-102601\n",
      "Fitting 500 datasets \n",
      "\n",
      "Executing code in parallel \n",
      "\n"
     ]
    },
    {
     "name": "stderr",
     "output_type": "stream",
     "text": [
      "[Parallel(n_jobs=-1)]: Done   1 tasks      | elapsed:  1.2min\n",
      "[Parallel(n_jobs=-1)]: Done  18 tasks      | elapsed:  3.0min\n",
      "[Parallel(n_jobs=-1)]: Done  37 tasks      | elapsed:  3.7min\n",
      "[Parallel(n_jobs=-1)]: Done  56 tasks      | elapsed:  4.5min\n",
      "[Parallel(n_jobs=-1)]: Done  77 tasks      | elapsed:  5.2min\n",
      "[Parallel(n_jobs=-1)]: Done  98 tasks      | elapsed:  6.5min\n",
      "[Parallel(n_jobs=-1)]: Done 121 tasks      | elapsed:  7.6min\n",
      "[Parallel(n_jobs=-1)]: Done 144 tasks      | elapsed:  8.5min\n",
      "[Parallel(n_jobs=-1)]: Done 169 tasks      | elapsed:  9.5min\n",
      "[Parallel(n_jobs=-1)]: Done 194 tasks      | elapsed: 10.5min\n",
      "[Parallel(n_jobs=-1)]: Done 221 tasks      | elapsed: 11.6min\n",
      "[Parallel(n_jobs=-1)]: Done 248 tasks      | elapsed: 13.2min\n",
      "[Parallel(n_jobs=-1)]: Done 277 tasks      | elapsed: 14.2min\n",
      "[Parallel(n_jobs=-1)]: Done 306 tasks      | elapsed: 15.8min\n",
      "[Parallel(n_jobs=-1)]: Done 337 tasks      | elapsed: 17.2min\n",
      "[Parallel(n_jobs=-1)]: Done 408 out of 500 | elapsed: 20.3min remaining:  4.6min\n",
      "[Parallel(n_jobs=-1)]: Done 459 out of 500 | elapsed: 22.4min remaining:  2.0min\n",
      "[Parallel(n_jobs=-1)]: Done 500 out of 500 | elapsed: 26.0min finished\n",
      "[Parallel(n_jobs=-1)]: Using backend LokyBackend with 72 concurrent workers.\n"
     ]
    },
    {
     "name": "stdout",
     "output_type": "stream",
     "text": [
      "Finished parallel excuting of 500 jobs in 0:25:59, time per job 0:00:03\n",
      "\n",
      "Initializing save\n",
      "All results saved to pickle: Results/Base/parallel-2 - dgp bigbatch- start 500 end 999 - drawtype pseudo - ndraws 25- timestamp 2019-06-22-105238\n",
      "Fitting 500 datasets \n",
      "\n",
      "Executing code in parallel \n",
      "\n"
     ]
    },
    {
     "name": "stderr",
     "output_type": "stream",
     "text": [
      "[Parallel(n_jobs=-1)]: Done   1 tasks      | elapsed:  3.3min\n",
      "[Parallel(n_jobs=-1)]: Done  18 tasks      | elapsed:  7.4min\n",
      "[Parallel(n_jobs=-1)]: Done  37 tasks      | elapsed: 10.3min\n",
      "[Parallel(n_jobs=-1)]: Done  56 tasks      | elapsed: 11.8min\n",
      "[Parallel(n_jobs=-1)]: Done  77 tasks      | elapsed: 14.2min\n",
      "[Parallel(n_jobs=-1)]: Done  98 tasks      | elapsed: 17.9min\n",
      "[Parallel(n_jobs=-1)]: Done 121 tasks      | elapsed: 22.3min\n",
      "[Parallel(n_jobs=-1)]: Done 144 tasks      | elapsed: 24.3min\n",
      "[Parallel(n_jobs=-1)]: Done 169 tasks      | elapsed: 27.8min\n",
      "[Parallel(n_jobs=-1)]: Done 194 tasks      | elapsed: 31.1min\n",
      "[Parallel(n_jobs=-1)]: Done 221 tasks      | elapsed: 34.3min\n",
      "[Parallel(n_jobs=-1)]: Done 248 tasks      | elapsed: 38.5min\n",
      "[Parallel(n_jobs=-1)]: Done 277 tasks      | elapsed: 42.0min\n",
      "[Parallel(n_jobs=-1)]: Done 306 tasks      | elapsed: 45.9min\n",
      "[Parallel(n_jobs=-1)]: Done 337 tasks      | elapsed: 49.9min\n",
      "[Parallel(n_jobs=-1)]: Done 408 out of 500 | elapsed: 58.4min remaining: 13.2min\n",
      "[Parallel(n_jobs=-1)]: Done 459 out of 500 | elapsed: 64.8min remaining:  5.8min\n"
     ]
    },
    {
     "name": "stdout",
     "output_type": "stream",
     "text": [
      "Finished parallel excuting of 500 jobs in 1:15:43, time per job 0:00:09\n",
      "\n",
      "Initializing save\n",
      "All results saved to pickle: Results/Base/parallel-1 - dgp bigbatch- start 0 end 499 - drawtype pseudo - ndraws 75- timestamp 2019-06-22-111837\n",
      "Fitting 500 datasets \n",
      "\n",
      "Executing code in parallel \n",
      "\n"
     ]
    },
    {
     "name": "stderr",
     "output_type": "stream",
     "text": [
      "[Parallel(n_jobs=-1)]: Done 500 out of 500 | elapsed: 75.7min finished\n",
      "[Parallel(n_jobs=-1)]: Using backend LokyBackend with 72 concurrent workers.\n",
      "[Parallel(n_jobs=-1)]: Done   1 tasks      | elapsed:  3.8min\n",
      "[Parallel(n_jobs=-1)]: Done  18 tasks      | elapsed:  6.9min\n",
      "[Parallel(n_jobs=-1)]: Done  37 tasks      | elapsed:  9.7min\n",
      "[Parallel(n_jobs=-1)]: Done  56 tasks      | elapsed: 12.0min\n",
      "[Parallel(n_jobs=-1)]: Done  77 tasks      | elapsed: 14.2min\n",
      "[Parallel(n_jobs=-1)]: Done  98 tasks      | elapsed: 17.8min\n",
      "[Parallel(n_jobs=-1)]: Done 121 tasks      | elapsed: 20.1min\n",
      "[Parallel(n_jobs=-1)]: Done 144 tasks      | elapsed: 23.2min\n",
      "[Parallel(n_jobs=-1)]: Done 169 tasks      | elapsed: 26.8min\n",
      "[Parallel(n_jobs=-1)]: Done 194 tasks      | elapsed: 29.9min\n",
      "[Parallel(n_jobs=-1)]: Done 221 tasks      | elapsed: 33.2min\n",
      "[Parallel(n_jobs=-1)]: Done 248 tasks      | elapsed: 36.8min\n",
      "[Parallel(n_jobs=-1)]: Done 277 tasks      | elapsed: 40.4min\n",
      "[Parallel(n_jobs=-1)]: Done 306 tasks      | elapsed: 44.5min\n",
      "[Parallel(n_jobs=-1)]: Done 337 tasks      | elapsed: 48.3min\n",
      "[Parallel(n_jobs=-1)]: Done 408 out of 500 | elapsed: 56.6min remaining: 12.8min\n",
      "[Parallel(n_jobs=-1)]: Done 459 out of 500 | elapsed: 61.9min remaining:  5.5min\n"
     ]
    },
    {
     "name": "stdout",
     "output_type": "stream",
     "text": [
      "Finished parallel excuting of 500 jobs in 1:24:17, time per job 0:00:10\n",
      "\n",
      "Initializing save\n",
      "All results saved to pickle: Results/Base/parallel-4 - dgp bigbatch- start 500 end 999 - drawtype pseudo - ndraws 75- timestamp 2019-06-22-123421\n"
     ]
    },
    {
     "name": "stderr",
     "output_type": "stream",
     "text": [
      "[Parallel(n_jobs=-1)]: Done 500 out of 500 | elapsed: 84.3min finished\n"
     ]
    }
   ],
   "source": [
    "from src.main import Mixedlogit, datasetloader \n",
    "\n",
    "dataset = datasetloader(\"n 1000 - seed 1234 - time 2019-06-20-134806.pickle\")\n",
    "\n",
    "mixedlogit = Mixedlogit(dataset, \"bigbatch\")\n",
    "\n",
    "#ndraws 25\n",
    "mixedlogit.fit(drawtype=\"pseudo\", n_draws=25, verbose=1, save=\"Base/parallel-1\", start=0, end=500, parallel=True)\n",
    "mixedlogit.fit(drawtype=\"pseudo\", n_draws=25, verbose=1, save=\"Base/parallel-2\", start=500, end=1000, parallel=True)\n",
    "\n",
    "#ndraws 75\n",
    "mixedlogit.fit(drawtype=\"pseudo\", n_draws=75, verbose=1, save=\"Base/parallel-1\", start=0, end=500, parallel=True)\n",
    "mixedlogit.fit(drawtype=\"pseudo\", n_draws=75, verbose=1, save=\"Base/parallel-4\", start=500, end=1000, parallel=True)"
   ]
  },
  {
   "cell_type": "code",
   "execution_count": null,
   "metadata": {},
   "outputs": [
    {
     "name": "stdout",
     "output_type": "stream",
     "text": [
      "Fitting 500 datasets \n",
      "\n",
      "Executing code in parallel \n",
      "\n"
     ]
    },
    {
     "name": "stderr",
     "output_type": "stream",
     "text": [
      "[Parallel(n_jobs=-1)]: Using backend LokyBackend with 72 concurrent workers.\n",
      "[Parallel(n_jobs=-1)]: Done   1 tasks      | elapsed:   30.4s\n",
      "[Parallel(n_jobs=-1)]: Done  18 tasks      | elapsed:  1.0min\n",
      "[Parallel(n_jobs=-1)]: Done  37 tasks      | elapsed:  1.5min\n",
      "[Parallel(n_jobs=-1)]: Done  56 tasks      | elapsed:  2.0min\n",
      "[Parallel(n_jobs=-1)]: Done  77 tasks      | elapsed:  2.3min\n",
      "[Parallel(n_jobs=-1)]: Done  98 tasks      | elapsed:  2.9min\n",
      "[Parallel(n_jobs=-1)]: Done 121 tasks      | elapsed:  3.4min\n",
      "[Parallel(n_jobs=-1)]: Done 144 tasks      | elapsed:  3.9min\n",
      "[Parallel(n_jobs=-1)]: Done 169 tasks      | elapsed:  4.6min\n",
      "[Parallel(n_jobs=-1)]: Done 194 tasks      | elapsed:  5.2min\n",
      "[Parallel(n_jobs=-1)]: Done 221 tasks      | elapsed:  5.8min\n",
      "[Parallel(n_jobs=-1)]: Done 248 tasks      | elapsed:  6.5min\n",
      "[Parallel(n_jobs=-1)]: Done 277 tasks      | elapsed:  7.3min\n",
      "[Parallel(n_jobs=-1)]: Done 306 tasks      | elapsed:  7.9min\n",
      "[Parallel(n_jobs=-1)]: Done 337 tasks      | elapsed:  8.7min\n",
      "[Parallel(n_jobs=-1)]: Done 408 out of 500 | elapsed: 10.3min remaining:  2.3min\n",
      "[Parallel(n_jobs=-1)]: Done 459 out of 500 | elapsed: 11.6min remaining:  1.0min\n",
      "[Parallel(n_jobs=-1)]: Done 500 out of 500 | elapsed: 12.6min finished\n",
      "[Parallel(n_jobs=-1)]: Using backend LokyBackend with 72 concurrent workers.\n"
     ]
    },
    {
     "name": "stdout",
     "output_type": "stream",
     "text": [
      "Finished parallel excuting of 500 jobs in 0:12:33, time per job 0:00:02\n",
      "\n",
      "Initializing save\n",
      "All results saved to pickle: Results/Base/parallel-1 - dgp bigbatch- start 0 end 499 - drawtype pseudo - ndraws 5- timestamp 2019-06-23-183924\n",
      "Fitting 200 datasets \n",
      "\n",
      "Executing code in parallel \n",
      "\n"
     ]
    },
    {
     "name": "stderr",
     "output_type": "stream",
     "text": [
      "[Parallel(n_jobs=-1)]: Done   1 tasks      | elapsed: 10.3min\n",
      "[Parallel(n_jobs=-1)]: Done  18 tasks      | elapsed: 18.3min\n",
      "[Parallel(n_jobs=-1)]: Done  37 tasks      | elapsed: 27.0min\n",
      "[Parallel(n_jobs=-1)]: Done  56 tasks      | elapsed: 33.7min\n",
      "[Parallel(n_jobs=-1)]: Done  78 out of 200 | elapsed: 42.8min remaining: 66.9min\n",
      "[Parallel(n_jobs=-1)]: Done  99 out of 200 | elapsed: 49.0min remaining: 50.0min\n",
      "[Parallel(n_jobs=-1)]: Done 120 out of 200 | elapsed: 57.9min remaining: 38.6min\n",
      "[Parallel(n_jobs=-1)]: Done 141 out of 200 | elapsed: 68.0min remaining: 28.4min\n",
      "[Parallel(n_jobs=-1)]: Done 162 out of 200 | elapsed: 72.8min remaining: 17.1min\n",
      "[Parallel(n_jobs=-1)]: Done 183 out of 200 | elapsed: 79.9min remaining:  7.4min\n"
     ]
    },
    {
     "name": "stdout",
     "output_type": "stream",
     "text": [
      "Finished parallel excuting of 200 jobs in 1:39:07, time per job 0:00:30\n",
      "\n",
      "Initializing save\n",
      "All results saved to pickle: Results/Halton2/250 - dgp bigbatch- start 0 end 199 - drawtype halton - ndraws 250- timestamp 2019-06-23-185157\n",
      "Fitting 500 datasets \n",
      "\n",
      "Executing code in parallel \n",
      "\n"
     ]
    },
    {
     "name": "stderr",
     "output_type": "stream",
     "text": [
      "[Parallel(n_jobs=-1)]: Done 200 out of 200 | elapsed: 99.1min finished\n",
      "[Parallel(n_jobs=-1)]: Using backend LokyBackend with 72 concurrent workers.\n",
      "[Parallel(n_jobs=-1)]: Done   1 tasks      | elapsed:   38.5s\n"
     ]
    }
   ],
   "source": [
    "from src.main import Mixedlogit, datasetloader \n",
    "\n",
    "dataset = datasetloader(\"n 1000 - seed 1234 - time 2019-06-20-134806.pickle\")\n",
    "\n",
    "mixedlogit = Mixedlogit(dataset, \"bigbatch\")\n",
    "\n",
    "\n",
    "# mixedlogit.fit(drawtype=\"halton\", n_draws=25, verbose=1, save=\"Halton2/25-2\", start=100, end=1000, parallel=True)\n",
    "\n",
    "        \n",
    "#ndraws pseudo 5\n",
    "mixedlogit.fit(drawtype=\"pseudo\", n_draws=5, verbose=1, save=\"Base/parallel-1\", start=0, end=500, parallel=True)\n",
    "mixedlogit.fit(drawtype=\"halton\", n_draws=250, verbose=1, save=\"Halton2/250\", start=0, end=200, parallel=True)\n",
    "\n",
    "#make halton draws\n",
    "partitions = 2\n",
    "# for i in range(partitions):\n",
    "i = 1\n",
    "for r in [10, 50, 75, 100]:\n",
    "    part = int(1000 / partitions)\n",
    "    start = part * i\n",
    "    end = part * (i+1)\n",
    "    mixedlogit.fit(drawtype=\"halton\", n_draws=r, verbose=1, save=\"Halton2/\"+str(r)+\"-\"+str(i+1), start=start, end=end, parallel=True)\n",
    "\n",
    "mixedlogit.fit(drawtype=\"pseudo\", n_draws=5, verbose=1, save=\"Base/parallel-2\", start=500, end=1000, parallel=True)"
   ]
  }
 ],
 "metadata": {
  "kernelspec": {
   "display_name": "conda_python3",
   "language": "python",
   "name": "conda_python3"
  },
  "language_info": {
   "codemirror_mode": {
    "name": "ipython",
    "version": 3
   },
   "file_extension": ".py",
   "mimetype": "text/x-python",
   "name": "python",
   "nbconvert_exporter": "python",
   "pygments_lexer": "ipython3",
   "version": "3.6.5"
  }
 },
 "nbformat": 4,
 "nbformat_minor": 2
}
