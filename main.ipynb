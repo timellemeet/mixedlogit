{
 "cells": [
  {
   "cell_type": "markdown",
   "metadata": {},
   "source": [
    "id: household\n",
    "\n",
    "Choices:  \n",
    "- heinz41  \n",
    "- heinz32  \n",
    "- heinz28  \n",
    "- hunts32  \n",
    "\n",
    "variables  \n",
    "- disp (1/0)  \n",
    "- feat (1/0)  \n",
    "- price (Log?)  "
   ]
  },
  {
   "cell_type": "markdown",
   "metadata": {},
   "source": [
    "Running the model"
   ]
  },
  {
   "cell_type": "code",
   "execution_count": 6,
   "metadata": {},
   "outputs": [],
   "source": [
    "from src.main import Mixedlogit, datasetloader \n",
    "\n",
    "dataset = datasetloader(\"n 1000 - seed 1234 - time 2019-06-20-134806.pickle\")\n",
    "\n",
    "mixedlogit = Mixedlogit(dataset, \"bigbatch\")\n",
    "\n",
    "# #ndraws 50\n",
    "mixedlogit.fit(drawtype=\"pseudo\", n_draws=50, verbose=1, save=\"Base/parallel-1\", start=0, end=200, parallel=True)\n",
    "mixedlogit.fit(drawtype=\"pseudo\", n_draws=50, verbose=1, save=\"Base/parallel-2\", start=200, end=400, parallel=True)\n",
    "mixedlogit.fit(drawtype=\"pseudo\", n_draws=50, verbose=1, save=\"Base/parallel-3\", start=400, end=600, parallel=True)\n",
    "mixedlogit.fit(drawtype=\"pseudo\", n_draws=50, verbose=1, save=\"Base/parallel-4\", start=600, end=800, parallel=True)\n",
    "mixedlogit.fit(drawtype=\"pseudo\", n_draws=50, verbose=1, save=\"Base/parallel-5\", start=800, end=1000, parallel=True)\n",
    "\n",
    "# #ndraws 100\n",
    "mixedlogit.fit(drawtype=\"pseudo\", n_draws=100, verbose=1, save=\"Base/parallel-1\", start=0, end=200, parallel=True)\n",
    "mixedlogit.fit(drawtype=\"pseudo\", n_draws=100, verbose=1, save=\"Base/parallel-2\", start=200, end=400, parallel=True)\n",
    "mixedlogit.fit(drawtype=\"pseudo\", n_draws=100, verbose=1, save=\"Base/parallel-3\", start=400, end=600, parallel=True)\n",
    "mixedlogit.fit(drawtype=\"pseudo\", n_draws=100, verbose=1, save=\"Base/parallel-4\", start=600, end=800, parallel=True)\n",
    "mixedlogit.fit(drawtype=\"pseudo\", n_draws=100, verbose=1, save=\"Base/parallel-5\", start=800, end=1000, parallel=True)"
   ]
  },
  {
   "cell_type": "code",
   "execution_count": null,
   "metadata": {},
   "outputs": [
    {
     "name": "stdout",
     "output_type": "stream",
     "text": [
      "Fitting 200 datasets \n",
      "\n",
      "Executing code in parallel \n",
      "\n"
     ]
    },
    {
     "name": "stderr",
     "output_type": "stream",
     "text": [
      "[Parallel(n_jobs=-1)]: Using backend LokyBackend with 72 concurrent workers.\n",
      "[Parallel(n_jobs=-1)]: Done   1 tasks      | elapsed: 12.8min\n"
     ]
    }
   ],
   "source": [
    "from src.main import Mixedlogit, datasetloader \n",
    "\n",
    "dataset = datasetloader(\"n 1000 - seed 1234 - time 2019-06-20-134806.pickle\")\n",
    "\n",
    "mixedlogit = Mixedlogit(dataset, \"bigbatch\")\n",
    "\n",
    "\n",
    "mixedlogit.fit(drawtype=\"pseudo\", n_draws=250, verbose=1, save=\"Big/250\", start=0, end=200, parallel=True)\n",
    "\n",
    "mixedlogit.fit(drawtype=\"pseudo\", n_draws=500, verbose=1, save=\"Big/500\", start=0, end=200, parallel=True)\n",
    "\n",
    "mixedlogit.fit(drawtype=\"pseudo\", n_draws=1000, verbose=1, save=\"Big/1000\", start=0, end=200, parallel=True)\n",
    "\n",
    "mixedlogit.fit(drawtype=\"pseudo\", n_draws=2000, verbose=1, save=\"Big/2000\", start=0, end=200, parallel=True)"
   ]
  },
  {
   "cell_type": "code",
   "execution_count": 1,
   "metadata": {},
   "outputs": [
    {
     "name": "stdout",
     "output_type": "stream",
     "text": [
      "Fitting 500 datasets \n",
      "\n",
      "Executing code in parallel \n",
      "\n"
     ]
    },
    {
     "name": "stderr",
     "output_type": "stream",
     "text": [
      "[Parallel(n_jobs=-1)]: Using backend LokyBackend with 72 concurrent workers.\n",
      "[Parallel(n_jobs=-1)]: Done   1 tasks      | elapsed:  1.5min\n",
      "[Parallel(n_jobs=-1)]: Done  18 tasks      | elapsed:  3.2min\n",
      "[Parallel(n_jobs=-1)]: Done  37 tasks      | elapsed:  4.3min\n",
      "[Parallel(n_jobs=-1)]: Done  56 tasks      | elapsed:  4.9min\n",
      "[Parallel(n_jobs=-1)]: Done  77 tasks      | elapsed:  5.8min\n",
      "[Parallel(n_jobs=-1)]: Done  98 tasks      | elapsed:  6.7min\n",
      "[Parallel(n_jobs=-1)]: Done 121 tasks      | elapsed:  7.7min\n",
      "[Parallel(n_jobs=-1)]: Done 144 tasks      | elapsed:  8.7min\n",
      "[Parallel(n_jobs=-1)]: Done 169 tasks      | elapsed:  9.8min\n",
      "[Parallel(n_jobs=-1)]: Done 194 tasks      | elapsed: 11.1min\n",
      "[Parallel(n_jobs=-1)]: Done 221 tasks      | elapsed: 12.2min\n",
      "[Parallel(n_jobs=-1)]: Done 248 tasks      | elapsed: 13.2min\n",
      "[Parallel(n_jobs=-1)]: Done 277 tasks      | elapsed: 14.7min\n",
      "[Parallel(n_jobs=-1)]: Done 306 tasks      | elapsed: 16.4min\n",
      "[Parallel(n_jobs=-1)]: Done 337 tasks      | elapsed: 17.8min\n",
      "[Parallel(n_jobs=-1)]: Done 408 out of 500 | elapsed: 21.0min remaining:  4.7min\n",
      "[Parallel(n_jobs=-1)]: Done 459 out of 500 | elapsed: 23.1min remaining:  2.1min\n",
      "[Parallel(n_jobs=-1)]: Done 500 out of 500 | elapsed: 26.6min finished\n",
      "[Parallel(n_jobs=-1)]: Using backend LokyBackend with 72 concurrent workers.\n"
     ]
    },
    {
     "name": "stdout",
     "output_type": "stream",
     "text": [
      "Finished parallel excuting of 500 jobs in 0:26:37, time per job 0:00:03\n",
      "\n",
      "Initializing save\n",
      "All results saved to pickle: Results/Base/parallel-1 - dgp bigbatch- start 0 end 499 - drawtype pseudo - ndraws 25- timestamp 2019-06-22-102601\n",
      "Fitting 500 datasets \n",
      "\n",
      "Executing code in parallel \n",
      "\n"
     ]
    },
    {
     "name": "stderr",
     "output_type": "stream",
     "text": [
      "[Parallel(n_jobs=-1)]: Done   1 tasks      | elapsed:  1.2min\n",
      "[Parallel(n_jobs=-1)]: Done  18 tasks      | elapsed:  3.0min\n",
      "[Parallel(n_jobs=-1)]: Done  37 tasks      | elapsed:  3.7min\n",
      "[Parallel(n_jobs=-1)]: Done  56 tasks      | elapsed:  4.5min\n",
      "[Parallel(n_jobs=-1)]: Done  77 tasks      | elapsed:  5.2min\n",
      "[Parallel(n_jobs=-1)]: Done  98 tasks      | elapsed:  6.5min\n",
      "[Parallel(n_jobs=-1)]: Done 121 tasks      | elapsed:  7.6min\n",
      "[Parallel(n_jobs=-1)]: Done 144 tasks      | elapsed:  8.5min\n",
      "[Parallel(n_jobs=-1)]: Done 169 tasks      | elapsed:  9.5min\n",
      "[Parallel(n_jobs=-1)]: Done 194 tasks      | elapsed: 10.5min\n",
      "[Parallel(n_jobs=-1)]: Done 221 tasks      | elapsed: 11.6min\n",
      "[Parallel(n_jobs=-1)]: Done 248 tasks      | elapsed: 13.2min\n",
      "[Parallel(n_jobs=-1)]: Done 277 tasks      | elapsed: 14.2min\n",
      "[Parallel(n_jobs=-1)]: Done 306 tasks      | elapsed: 15.8min\n",
      "[Parallel(n_jobs=-1)]: Done 337 tasks      | elapsed: 17.2min\n",
      "[Parallel(n_jobs=-1)]: Done 408 out of 500 | elapsed: 20.3min remaining:  4.6min\n",
      "[Parallel(n_jobs=-1)]: Done 459 out of 500 | elapsed: 22.4min remaining:  2.0min\n",
      "[Parallel(n_jobs=-1)]: Done 500 out of 500 | elapsed: 26.0min finished\n",
      "[Parallel(n_jobs=-1)]: Using backend LokyBackend with 72 concurrent workers.\n"
     ]
    },
    {
     "name": "stdout",
     "output_type": "stream",
     "text": [
      "Finished parallel excuting of 500 jobs in 0:25:59, time per job 0:00:03\n",
      "\n",
      "Initializing save\n",
      "All results saved to pickle: Results/Base/parallel-2 - dgp bigbatch- start 500 end 999 - drawtype pseudo - ndraws 25- timestamp 2019-06-22-105238\n",
      "Fitting 500 datasets \n",
      "\n",
      "Executing code in parallel \n",
      "\n"
     ]
    },
    {
     "name": "stderr",
     "output_type": "stream",
     "text": [
      "[Parallel(n_jobs=-1)]: Done   1 tasks      | elapsed:  3.3min\n",
      "[Parallel(n_jobs=-1)]: Done  18 tasks      | elapsed:  7.4min\n",
      "[Parallel(n_jobs=-1)]: Done  37 tasks      | elapsed: 10.3min\n",
      "[Parallel(n_jobs=-1)]: Done  56 tasks      | elapsed: 11.8min\n",
      "[Parallel(n_jobs=-1)]: Done  77 tasks      | elapsed: 14.2min\n",
      "[Parallel(n_jobs=-1)]: Done  98 tasks      | elapsed: 17.9min\n",
      "[Parallel(n_jobs=-1)]: Done 121 tasks      | elapsed: 22.3min\n",
      "[Parallel(n_jobs=-1)]: Done 144 tasks      | elapsed: 24.3min\n",
      "[Parallel(n_jobs=-1)]: Done 169 tasks      | elapsed: 27.8min\n",
      "[Parallel(n_jobs=-1)]: Done 194 tasks      | elapsed: 31.1min\n",
      "[Parallel(n_jobs=-1)]: Done 221 tasks      | elapsed: 34.3min\n",
      "[Parallel(n_jobs=-1)]: Done 248 tasks      | elapsed: 38.5min\n",
      "[Parallel(n_jobs=-1)]: Done 277 tasks      | elapsed: 42.0min\n",
      "[Parallel(n_jobs=-1)]: Done 306 tasks      | elapsed: 45.9min\n",
      "[Parallel(n_jobs=-1)]: Done 337 tasks      | elapsed: 49.9min\n",
      "[Parallel(n_jobs=-1)]: Done 408 out of 500 | elapsed: 58.4min remaining: 13.2min\n",
      "[Parallel(n_jobs=-1)]: Done 459 out of 500 | elapsed: 64.8min remaining:  5.8min\n"
     ]
    },
    {
     "name": "stdout",
     "output_type": "stream",
     "text": [
      "Finished parallel excuting of 500 jobs in 1:15:43, time per job 0:00:09\n",
      "\n",
      "Initializing save\n",
      "All results saved to pickle: Results/Base/parallel-1 - dgp bigbatch- start 0 end 499 - drawtype pseudo - ndraws 75- timestamp 2019-06-22-111837\n",
      "Fitting 500 datasets \n",
      "\n",
      "Executing code in parallel \n",
      "\n"
     ]
    },
    {
     "name": "stderr",
     "output_type": "stream",
     "text": [
      "[Parallel(n_jobs=-1)]: Done 500 out of 500 | elapsed: 75.7min finished\n",
      "[Parallel(n_jobs=-1)]: Using backend LokyBackend with 72 concurrent workers.\n",
      "[Parallel(n_jobs=-1)]: Done   1 tasks      | elapsed:  3.8min\n",
      "[Parallel(n_jobs=-1)]: Done  18 tasks      | elapsed:  6.9min\n",
      "[Parallel(n_jobs=-1)]: Done  37 tasks      | elapsed:  9.7min\n",
      "[Parallel(n_jobs=-1)]: Done  56 tasks      | elapsed: 12.0min\n",
      "[Parallel(n_jobs=-1)]: Done  77 tasks      | elapsed: 14.2min\n",
      "[Parallel(n_jobs=-1)]: Done  98 tasks      | elapsed: 17.8min\n",
      "[Parallel(n_jobs=-1)]: Done 121 tasks      | elapsed: 20.1min\n",
      "[Parallel(n_jobs=-1)]: Done 144 tasks      | elapsed: 23.2min\n",
      "[Parallel(n_jobs=-1)]: Done 169 tasks      | elapsed: 26.8min\n",
      "[Parallel(n_jobs=-1)]: Done 194 tasks      | elapsed: 29.9min\n",
      "[Parallel(n_jobs=-1)]: Done 221 tasks      | elapsed: 33.2min\n",
      "[Parallel(n_jobs=-1)]: Done 248 tasks      | elapsed: 36.8min\n",
      "[Parallel(n_jobs=-1)]: Done 277 tasks      | elapsed: 40.4min\n",
      "[Parallel(n_jobs=-1)]: Done 306 tasks      | elapsed: 44.5min\n",
      "[Parallel(n_jobs=-1)]: Done 337 tasks      | elapsed: 48.3min\n",
      "[Parallel(n_jobs=-1)]: Done 408 out of 500 | elapsed: 56.6min remaining: 12.8min\n",
      "[Parallel(n_jobs=-1)]: Done 459 out of 500 | elapsed: 61.9min remaining:  5.5min\n"
     ]
    },
    {
     "name": "stdout",
     "output_type": "stream",
     "text": [
      "Finished parallel excuting of 500 jobs in 1:24:17, time per job 0:00:10\n",
      "\n",
      "Initializing save\n",
      "All results saved to pickle: Results/Base/parallel-4 - dgp bigbatch- start 500 end 999 - drawtype pseudo - ndraws 75- timestamp 2019-06-22-123421\n"
     ]
    },
    {
     "name": "stderr",
     "output_type": "stream",
     "text": [
      "[Parallel(n_jobs=-1)]: Done 500 out of 500 | elapsed: 84.3min finished\n"
     ]
    }
   ],
   "source": [
    "from src.main import Mixedlogit, datasetloader \n",
    "\n",
    "dataset = datasetloader(\"n 1000 - seed 1234 - time 2019-06-20-134806.pickle\")\n",
    "\n",
    "mixedlogit = Mixedlogit(dataset, \"bigbatch\")\n",
    "\n",
    "#ndraws 25\n",
    "mixedlogit.fit(drawtype=\"pseudo\", n_draws=25, verbose=1, save=\"Base/parallel-1\", start=0, end=500, parallel=True)\n",
    "mixedlogit.fit(drawtype=\"pseudo\", n_draws=25, verbose=1, save=\"Base/parallel-2\", start=500, end=1000, parallel=True)\n",
    "\n",
    "#ndraws 75\n",
    "mixedlogit.fit(drawtype=\"pseudo\", n_draws=75, verbose=1, save=\"Base/parallel-1\", start=0, end=500, parallel=True)\n",
    "mixedlogit.fit(drawtype=\"pseudo\", n_draws=75, verbose=1, save=\"Base/parallel-4\", start=500, end=1000, parallel=True)"
   ]
  },
  {
   "cell_type": "code",
   "execution_count": 2,
   "metadata": {},
   "outputs": [
    {
     "name": "stdout",
     "output_type": "stream",
     "text": [
      "Collecting joblib\n",
      "\u001b[?25l  Downloading https://files.pythonhosted.org/packages/cd/c1/50a758e8247561e58cb87305b1e90b171b8c767b15b12a1734001f41d356/joblib-0.13.2-py2.py3-none-any.whl (278kB)\n",
      "\u001b[K    100% |████████████████████████████████| 286kB 8.3MB/s \n",
      "\u001b[?25hCollecting ghalton\n",
      "\u001b[?25l  Downloading https://files.pythonhosted.org/packages/36/d3/88ccf26adde4930247dd58367ba896d149579fcbbe381e278e7c9b25db09/ghalton-0.6.1.tar.gz (125kB)\n",
      "\u001b[K    100% |████████████████████████████████| 133kB 72.3MB/s \n",
      "\u001b[?25hCollecting pathvalidate\n",
      "  Downloading https://files.pythonhosted.org/packages/9a/6f/f84111b8a2676f57ed49b947fc1a59c24d70f71aecb2c4ce6decbfe47771/pathvalidate-0.29.0-py2.py3-none-any.whl\n",
      "Requirement already satisfied: setuptools>=38.3.0 in /home/ec2-user/anaconda3/envs/python3/lib/python3.6/site-packages (from pathvalidate) (39.1.0)\n",
      "Building wheels for collected packages: ghalton\n",
      "  Running setup.py bdist_wheel for ghalton ... \u001b[?25ldone\n",
      "\u001b[?25h  Stored in directory: /home/ec2-user/.cache/pip/wheels/93/1c/9b/cae64093694663cdfe86a7f03da7b1dc5b6ee4c5a574cab9ce\n",
      "Successfully built ghalton\n",
      "Installing collected packages: joblib, ghalton, pathvalidate\n",
      "Successfully installed ghalton-0.6.1 joblib-0.13.2 pathvalidate-0.29.0\n",
      "\u001b[33mYou are using pip version 10.0.1, however version 19.1.1 is available.\n",
      "You should consider upgrading via the 'pip install --upgrade pip' command.\u001b[0m\n",
      "Fitting 500 datasets \n",
      "\n",
      "Executing code in parallel \n",
      "\n"
     ]
    },
    {
     "name": "stderr",
     "output_type": "stream",
     "text": [
      "[Parallel(n_jobs=-1)]: Using backend LokyBackend with 72 concurrent workers.\n",
      "[Parallel(n_jobs=-1)]: Done   1 tasks      | elapsed:  5.2min\n",
      "[Parallel(n_jobs=-1)]: Done  18 tasks      | elapsed:  8.4min\n",
      "[Parallel(n_jobs=-1)]: Done  37 tasks      | elapsed: 12.3min\n",
      "[Parallel(n_jobs=-1)]: Done  56 tasks      | elapsed: 14.7min\n",
      "[Parallel(n_jobs=-1)]: Done  77 tasks      | elapsed: 17.5min\n",
      "[Parallel(n_jobs=-1)]: Done  98 tasks      | elapsed: 21.7min\n",
      "[Parallel(n_jobs=-1)]: Done 121 tasks      | elapsed: 25.0min\n",
      "[Parallel(n_jobs=-1)]: Done 144 tasks      | elapsed: 28.9min\n",
      "[Parallel(n_jobs=-1)]: Done 169 tasks      | elapsed: 32.6min\n",
      "[Parallel(n_jobs=-1)]: Done 194 tasks      | elapsed: 36.8min\n",
      "[Parallel(n_jobs=-1)]: Done 221 tasks      | elapsed: 40.4min\n",
      "[Parallel(n_jobs=-1)]: Done 248 tasks      | elapsed: 46.2min\n",
      "[Parallel(n_jobs=-1)]: Done 277 tasks      | elapsed: 51.0min\n",
      "[Parallel(n_jobs=-1)]: Done 306 tasks      | elapsed: 55.5min\n",
      "[Parallel(n_jobs=-1)]: Done 337 tasks      | elapsed: 60.1min\n",
      "[Parallel(n_jobs=-1)]: Done 408 out of 500 | elapsed: 72.1min remaining: 16.3min\n",
      "[Parallel(n_jobs=-1)]: Done 459 out of 500 | elapsed: 80.4min remaining:  7.2min\n"
     ]
    },
    {
     "name": "stdout",
     "output_type": "stream",
     "text": [
      "Finished parallel excuting of 500 jobs in 1:39:53, time per job 0:00:12\n",
      "\n",
      "Initializing save\n",
      "All results saved to pickle: Results/Halton2/100-2 - dgp bigbatch- start 500 end 999 - drawtype halton - ndraws 100- timestamp 2019-06-26-112119\n",
      "Fitting 500 datasets \n",
      "\n",
      "Executing code in parallel \n",
      "\n"
     ]
    },
    {
     "name": "stderr",
     "output_type": "stream",
     "text": [
      "[Parallel(n_jobs=-1)]: Done 500 out of 500 | elapsed: 99.9min finished\n",
      "[Parallel(n_jobs=-1)]: Using backend LokyBackend with 72 concurrent workers.\n",
      "[Parallel(n_jobs=-1)]: Done   1 tasks      | elapsed:   29.7s\n",
      "[Parallel(n_jobs=-1)]: Done  18 tasks      | elapsed:  1.2min\n",
      "[Parallel(n_jobs=-1)]: Done  37 tasks      | elapsed:  1.6min\n",
      "[Parallel(n_jobs=-1)]: Done  56 tasks      | elapsed:  2.2min\n",
      "[Parallel(n_jobs=-1)]: Done  77 tasks      | elapsed:  2.7min\n",
      "[Parallel(n_jobs=-1)]: Done  98 tasks      | elapsed:  3.3min\n",
      "[Parallel(n_jobs=-1)]: Done 121 tasks      | elapsed:  4.1min\n",
      "[Parallel(n_jobs=-1)]: Done 144 tasks      | elapsed:  4.6min\n",
      "[Parallel(n_jobs=-1)]: Done 169 tasks      | elapsed:  5.4min\n",
      "[Parallel(n_jobs=-1)]: Done 194 tasks      | elapsed:  6.1min\n",
      "[Parallel(n_jobs=-1)]: Done 221 tasks      | elapsed:  7.0min\n",
      "[Parallel(n_jobs=-1)]: Done 248 tasks      | elapsed:  7.6min\n",
      "[Parallel(n_jobs=-1)]: Done 277 tasks      | elapsed:  8.6min\n",
      "[Parallel(n_jobs=-1)]: Done 306 tasks      | elapsed:  9.3min\n",
      "[Parallel(n_jobs=-1)]: Done 337 tasks      | elapsed: 10.2min\n",
      "[Parallel(n_jobs=-1)]: Done 408 out of 500 | elapsed: 12.3min remaining:  2.8min\n",
      "[Parallel(n_jobs=-1)]: Done 459 out of 500 | elapsed: 13.8min remaining:  1.2min\n"
     ]
    },
    {
     "name": "stdout",
     "output_type": "stream",
     "text": [
      "Finished parallel excuting of 500 jobs in 0:16:12, time per job 0:00:02\n",
      "\n",
      "Initializing save\n",
      "All results saved to pickle: Results/Base/parallel-2 - dgp bigbatch- start 500 end 999 - drawtype pseudo - ndraws 5- timestamp 2019-06-26-130112\n"
     ]
    },
    {
     "name": "stderr",
     "output_type": "stream",
     "text": [
      "[Parallel(n_jobs=-1)]: Done 500 out of 500 | elapsed: 16.2min finished\n"
     ]
    }
   ],
   "source": [
    "!pip install joblib ghalton pathvalidate\n",
    "\n",
    "from src.main import Mixedlogit, datasetloader \n",
    "\n",
    "dataset = datasetloader(\"n 1000 - seed 1234 - time 2019-06-20-134806.pickle\")\n",
    "\n",
    "mixedlogit = Mixedlogit(dataset, \"bigbatch\")\n",
    "\n",
    "\n",
    "# mixedlogit.fit(drawtype=\"halton\", n_draws=25, verbose=1, save=\"Halton2/25-2\", start=100, end=1000, parallel=True)\n",
    "\n",
    "        \n",
    "# #ndraws pseudo 5\n",
    "# mixedlogit.fit(drawtype=\"pseudo\", n_draws=5, verbose=1, save=\"Base/parallel-1\", start=0, end=500, parallel=True)\n",
    "# mixedlogit.fit(drawtype=\"halton\", n_draws=250, verbose=1, save=\"Halton2/250\", start=0, end=200, parallel=True)\n",
    "\n",
    "#make halton draws\n",
    "partitions = 2\n",
    "# for i in range(partitions):\n",
    "i = 1\n",
    "for r in [100]:\n",
    "    part = int(1000 / partitions)\n",
    "    start = part * i\n",
    "    end = part * (i+1)\n",
    "    mixedlogit.fit(drawtype=\"halton\", n_draws=r, verbose=1, save=\"Halton2/\"+str(r)+\"-\"+str(i+1), start=start, end=end, parallel=True)\n",
    "\n",
    "mixedlogit.fit(drawtype=\"pseudo\", n_draws=5, verbose=1, save=\"Base/parallel-2\", start=500, end=1000, parallel=True)"
   ]
  },
  {
   "cell_type": "markdown",
   "metadata": {},
   "source": [
    "Golden ratio based method"
   ]
  },
  {
   "cell_type": "code",
   "execution_count": null,
   "metadata": {},
   "outputs": [
    {
     "name": "stdout",
     "output_type": "stream",
     "text": [
      "Fitting 500 datasets \n",
      "\n",
      "Executing code in parallel \n",
      "\n"
     ]
    },
    {
     "name": "stderr",
     "output_type": "stream",
     "text": [
      "[Parallel(n_jobs=-1)]: Using backend LokyBackend with 72 concurrent workers.\n",
      "[Parallel(n_jobs=-1)]: Done   1 tasks      | elapsed:  1.3min\n",
      "[Parallel(n_jobs=-1)]: Done  18 tasks      | elapsed:  2.9min\n",
      "[Parallel(n_jobs=-1)]: Done  37 tasks      | elapsed:  4.0min\n",
      "[Parallel(n_jobs=-1)]: Done  56 tasks      | elapsed:  5.0min\n",
      "[Parallel(n_jobs=-1)]: Done  77 tasks      | elapsed:  5.9min\n",
      "[Parallel(n_jobs=-1)]: Done  98 tasks      | elapsed:  6.8min\n",
      "[Parallel(n_jobs=-1)]: Done 121 tasks      | elapsed:  7.9min\n",
      "[Parallel(n_jobs=-1)]: Done 144 tasks      | elapsed:  8.8min\n",
      "[Parallel(n_jobs=-1)]: Done 169 tasks      | elapsed:  9.8min\n",
      "[Parallel(n_jobs=-1)]: Done 194 tasks      | elapsed: 10.8min\n",
      "[Parallel(n_jobs=-1)]: Done 221 tasks      | elapsed: 11.8min\n",
      "[Parallel(n_jobs=-1)]: Done 248 tasks      | elapsed: 13.3min\n",
      "[Parallel(n_jobs=-1)]: Done 277 tasks      | elapsed: 14.9min\n",
      "[Parallel(n_jobs=-1)]: Done 306 tasks      | elapsed: 16.1min\n",
      "[Parallel(n_jobs=-1)]: Done 337 tasks      | elapsed: 17.5min\n",
      "[Parallel(n_jobs=-1)]: Done 408 out of 500 | elapsed: 21.0min remaining:  4.7min\n",
      "[Parallel(n_jobs=-1)]: Done 459 out of 500 | elapsed: 23.2min remaining:  2.1min\n",
      "[Parallel(n_jobs=-1)]: Done 500 out of 500 | elapsed: 26.5min finished\n",
      "[Parallel(n_jobs=-1)]: Using backend LokyBackend with 72 concurrent workers.\n"
     ]
    },
    {
     "name": "stdout",
     "output_type": "stream",
     "text": [
      "Finished parallel excuting of 500 jobs in 0:26:32, time per job 0:00:03\n",
      "\n",
      "Initializing save\n",
      "All results saved to pickle: Results/Golden/25-1 - dgp bigbatch- start 0 end 499 - drawtype golden - ndraws 25- timestamp 2019-06-28-183629\n",
      "Fitting 500 datasets \n",
      "\n",
      "Executing code in parallel \n",
      "\n"
     ]
    },
    {
     "name": "stderr",
     "output_type": "stream",
     "text": [
      "[Parallel(n_jobs=-1)]: Done   1 tasks      | elapsed:   23.3s\n",
      "[Parallel(n_jobs=-1)]: Done  18 tasks      | elapsed:  1.0min\n",
      "[Parallel(n_jobs=-1)]: Done  37 tasks      | elapsed:  1.6min\n",
      "[Parallel(n_jobs=-1)]: Done  56 tasks      | elapsed:  2.3min\n",
      "[Parallel(n_jobs=-1)]: Done  77 tasks      | elapsed:  2.8min\n",
      "[Parallel(n_jobs=-1)]: Done  98 tasks      | elapsed:  3.5min\n",
      "[Parallel(n_jobs=-1)]: Done 121 tasks      | elapsed:  4.1min\n",
      "[Parallel(n_jobs=-1)]: Done 144 tasks      | elapsed:  4.9min\n",
      "[Parallel(n_jobs=-1)]: Done 169 tasks      | elapsed:  5.7min\n",
      "[Parallel(n_jobs=-1)]: Done 194 tasks      | elapsed:  6.3min\n",
      "[Parallel(n_jobs=-1)]: Done 221 tasks      | elapsed:  7.2min\n",
      "[Parallel(n_jobs=-1)]: Done 248 tasks      | elapsed:  8.0min\n",
      "[Parallel(n_jobs=-1)]: Done 277 tasks      | elapsed:  8.9min\n",
      "[Parallel(n_jobs=-1)]: Done 306 tasks      | elapsed:  9.7min\n",
      "[Parallel(n_jobs=-1)]: Done 337 tasks      | elapsed: 10.7min\n",
      "[Parallel(n_jobs=-1)]: Done 408 out of 500 | elapsed: 12.8min remaining:  2.9min\n",
      "[Parallel(n_jobs=-1)]: Done 459 out of 500 | elapsed: 14.5min remaining:  1.3min\n",
      "[Parallel(n_jobs=-1)]: Done 500 out of 500 | elapsed: 15.8min finished\n",
      "[Parallel(n_jobs=-1)]: Using backend LokyBackend with 72 concurrent workers.\n"
     ]
    },
    {
     "name": "stdout",
     "output_type": "stream",
     "text": [
      "Finished parallel excuting of 500 jobs in 0:15:48, time per job 0:00:02\n",
      "\n",
      "Initializing save\n",
      "All results saved to pickle: Results/Golden/5-1 - dgp bigbatch- start 0 end 499 - drawtype golden - ndraws 5- timestamp 2019-06-28-190301\n",
      "Fitting 500 datasets \n",
      "\n",
      "Executing code in parallel \n",
      "\n"
     ]
    },
    {
     "name": "stderr",
     "output_type": "stream",
     "text": [
      "[Parallel(n_jobs=-1)]: Done   1 tasks      | elapsed:   19.0s\n",
      "[Parallel(n_jobs=-1)]: Done  18 tasks      | elapsed:  1.0min\n",
      "[Parallel(n_jobs=-1)]: Done  37 tasks      | elapsed:  1.6min\n",
      "[Parallel(n_jobs=-1)]: Done  56 tasks      | elapsed:  2.1min\n",
      "[Parallel(n_jobs=-1)]: Done  77 tasks      | elapsed:  2.8min\n",
      "[Parallel(n_jobs=-1)]: Done  98 tasks      | elapsed:  3.4min\n",
      "[Parallel(n_jobs=-1)]: Done 121 tasks      | elapsed:  4.1min\n",
      "[Parallel(n_jobs=-1)]: Done 144 tasks      | elapsed:  4.8min\n",
      "[Parallel(n_jobs=-1)]: Done 169 tasks      | elapsed:  5.5min\n",
      "[Parallel(n_jobs=-1)]: Done 194 tasks      | elapsed:  6.3min\n",
      "[Parallel(n_jobs=-1)]: Done 221 tasks      | elapsed:  7.2min\n",
      "[Parallel(n_jobs=-1)]: Done 248 tasks      | elapsed:  8.0min\n",
      "[Parallel(n_jobs=-1)]: Done 277 tasks      | elapsed:  8.9min\n",
      "[Parallel(n_jobs=-1)]: Done 306 tasks      | elapsed:  9.8min\n",
      "[Parallel(n_jobs=-1)]: Done 337 tasks      | elapsed: 10.7min\n",
      "[Parallel(n_jobs=-1)]: Done 408 out of 500 | elapsed: 12.7min remaining:  2.9min\n",
      "[Parallel(n_jobs=-1)]: Done 459 out of 500 | elapsed: 14.4min remaining:  1.3min\n",
      "[Parallel(n_jobs=-1)]: Done 500 out of 500 | elapsed: 15.8min finished\n",
      "[Parallel(n_jobs=-1)]: Using backend LokyBackend with 72 concurrent workers.\n"
     ]
    },
    {
     "name": "stdout",
     "output_type": "stream",
     "text": [
      "Finished parallel excuting of 500 jobs in 0:15:49, time per job 0:00:02\n",
      "\n",
      "Initializing save\n",
      "All results saved to pickle: Results/Sobol/5-1 - dgp bigbatch- start 0 end 499 - drawtype sobol - ndraws 5- timestamp 2019-06-28-191849\n",
      "Fitting 500 datasets \n",
      "\n",
      "Executing code in parallel \n",
      "\n"
     ]
    },
    {
     "name": "stderr",
     "output_type": "stream",
     "text": [
      "[Parallel(n_jobs=-1)]: Done   1 tasks      | elapsed:   28.6s\n",
      "[Parallel(n_jobs=-1)]: Done  18 tasks      | elapsed:  1.4min\n",
      "[Parallel(n_jobs=-1)]: Done  37 tasks      | elapsed:  1.9min\n",
      "[Parallel(n_jobs=-1)]: Done  56 tasks      | elapsed:  2.6min\n",
      "[Parallel(n_jobs=-1)]: Done  77 tasks      | elapsed:  3.3min\n",
      "[Parallel(n_jobs=-1)]: Done  98 tasks      | elapsed:  3.9min\n",
      "[Parallel(n_jobs=-1)]: Done 121 tasks      | elapsed:  4.5min\n",
      "[Parallel(n_jobs=-1)]: Done 144 tasks      | elapsed:  5.4min\n",
      "[Parallel(n_jobs=-1)]: Done 169 tasks      | elapsed:  6.1min\n",
      "[Parallel(n_jobs=-1)]: Done 194 tasks      | elapsed:  6.7min\n",
      "[Parallel(n_jobs=-1)]: Done 221 tasks      | elapsed:  7.5min\n",
      "[Parallel(n_jobs=-1)]: Done 248 tasks      | elapsed:  8.4min\n",
      "[Parallel(n_jobs=-1)]: Done 277 tasks      | elapsed:  9.3min\n",
      "[Parallel(n_jobs=-1)]: Done 306 tasks      | elapsed: 10.4min\n",
      "[Parallel(n_jobs=-1)]: Done 337 tasks      | elapsed: 11.2min\n",
      "[Parallel(n_jobs=-1)]: Done 408 out of 500 | elapsed: 13.3min remaining:  3.0min\n",
      "[Parallel(n_jobs=-1)]: Done 459 out of 500 | elapsed: 14.9min remaining:  1.3min\n",
      "[Parallel(n_jobs=-1)]: Done 500 out of 500 | elapsed: 17.1min finished\n",
      "[Parallel(n_jobs=-1)]: Using backend LokyBackend with 72 concurrent workers.\n"
     ]
    },
    {
     "name": "stdout",
     "output_type": "stream",
     "text": [
      "Finished parallel excuting of 500 jobs in 0:17:07, time per job 0:00:02\n",
      "\n",
      "Initializing save\n",
      "All results saved to pickle: Results/Golden/10-1 - dgp bigbatch- start 0 end 499 - drawtype golden - ndraws 10- timestamp 2019-06-28-193438\n",
      "Fitting 500 datasets \n",
      "\n",
      "Executing code in parallel \n",
      "\n"
     ]
    },
    {
     "name": "stderr",
     "output_type": "stream",
     "text": [
      "[Parallel(n_jobs=-1)]: Done   1 tasks      | elapsed:   32.8s\n",
      "[Parallel(n_jobs=-1)]: Done  18 tasks      | elapsed:  1.4min\n",
      "[Parallel(n_jobs=-1)]: Done  37 tasks      | elapsed:  2.0min\n",
      "[Parallel(n_jobs=-1)]: Done  56 tasks      | elapsed:  2.7min\n",
      "[Parallel(n_jobs=-1)]: Done  77 tasks      | elapsed:  3.2min\n",
      "[Parallel(n_jobs=-1)]: Done  98 tasks      | elapsed:  3.8min\n",
      "[Parallel(n_jobs=-1)]: Done 121 tasks      | elapsed:  4.4min\n",
      "[Parallel(n_jobs=-1)]: Done 144 tasks      | elapsed:  5.3min\n",
      "[Parallel(n_jobs=-1)]: Done 169 tasks      | elapsed:  5.9min\n",
      "[Parallel(n_jobs=-1)]: Done 194 tasks      | elapsed:  6.8min\n",
      "[Parallel(n_jobs=-1)]: Done 221 tasks      | elapsed:  7.4min\n",
      "[Parallel(n_jobs=-1)]: Done 248 tasks      | elapsed:  8.5min\n",
      "[Parallel(n_jobs=-1)]: Done 277 tasks      | elapsed:  9.3min\n",
      "[Parallel(n_jobs=-1)]: Done 306 tasks      | elapsed: 10.3min\n",
      "[Parallel(n_jobs=-1)]: Done 337 tasks      | elapsed: 11.3min\n",
      "[Parallel(n_jobs=-1)]: Done 408 out of 500 | elapsed: 13.4min remaining:  3.0min\n",
      "[Parallel(n_jobs=-1)]: Done 459 out of 500 | elapsed: 14.8min remaining:  1.3min\n",
      "[Parallel(n_jobs=-1)]: Done 500 out of 500 | elapsed: 16.4min finished\n",
      "[Parallel(n_jobs=-1)]: Using backend LokyBackend with 72 concurrent workers.\n"
     ]
    },
    {
     "name": "stdout",
     "output_type": "stream",
     "text": [
      "Finished parallel excuting of 500 jobs in 0:16:23, time per job 0:00:02\n",
      "\n",
      "Initializing save\n",
      "All results saved to pickle: Results/Sobol/10-1 - dgp bigbatch- start 0 end 499 - drawtype sobol - ndraws 10- timestamp 2019-06-28-195145\n",
      "Fitting 500 datasets \n",
      "\n",
      "Executing code in parallel \n",
      "\n"
     ]
    },
    {
     "name": "stderr",
     "output_type": "stream",
     "text": [
      "[Parallel(n_jobs=-1)]: Done   1 tasks      | elapsed:  2.4min\n",
      "[Parallel(n_jobs=-1)]: Done  18 tasks      | elapsed:  4.6min\n",
      "[Parallel(n_jobs=-1)]: Done  37 tasks      | elapsed:  5.9min\n",
      "[Parallel(n_jobs=-1)]: Done  56 tasks      | elapsed:  7.7min\n",
      "[Parallel(n_jobs=-1)]: Done  77 tasks      | elapsed:  9.6min\n",
      "[Parallel(n_jobs=-1)]: Done  98 tasks      | elapsed: 11.2min\n",
      "[Parallel(n_jobs=-1)]: Done 121 tasks      | elapsed: 13.0min\n",
      "[Parallel(n_jobs=-1)]: Done 144 tasks      | elapsed: 14.5min\n",
      "[Parallel(n_jobs=-1)]: Done 169 tasks      | elapsed: 16.5min\n",
      "[Parallel(n_jobs=-1)]: Done 194 tasks      | elapsed: 18.5min\n",
      "[Parallel(n_jobs=-1)]: Done 221 tasks      | elapsed: 20.9min\n",
      "[Parallel(n_jobs=-1)]: Done 248 tasks      | elapsed: 23.3min\n",
      "[Parallel(n_jobs=-1)]: Done 277 tasks      | elapsed: 26.0min\n",
      "[Parallel(n_jobs=-1)]: Done 306 tasks      | elapsed: 28.1min\n",
      "[Parallel(n_jobs=-1)]: Done 337 tasks      | elapsed: 30.9min\n",
      "[Parallel(n_jobs=-1)]: Done 408 out of 500 | elapsed: 36.4min remaining:  8.2min\n",
      "[Parallel(n_jobs=-1)]: Done 459 out of 500 | elapsed: 40.5min remaining:  3.6min\n"
     ]
    },
    {
     "name": "stdout",
     "output_type": "stream",
     "text": [
      "Finished parallel excuting of 500 jobs in 0:44:21, time per job 0:00:05\n",
      "\n",
      "Initializing save\n",
      "All results saved to pickle: Results/Golden/50-1 - dgp bigbatch- start 0 end 499 - drawtype golden - ndraws 50- timestamp 2019-06-28-200807\n",
      "Fitting 500 datasets \n",
      "\n",
      "Executing code in parallel \n",
      "\n"
     ]
    },
    {
     "name": "stderr",
     "output_type": "stream",
     "text": [
      "[Parallel(n_jobs=-1)]: Done 500 out of 500 | elapsed: 44.3min finished\n",
      "[Parallel(n_jobs=-1)]: Using backend LokyBackend with 72 concurrent workers.\n",
      "[Parallel(n_jobs=-1)]: Done   1 tasks      | elapsed:  1.8min\n",
      "[Parallel(n_jobs=-1)]: Done  18 tasks      | elapsed:  5.0min\n",
      "[Parallel(n_jobs=-1)]: Done  37 tasks      | elapsed:  6.8min\n",
      "[Parallel(n_jobs=-1)]: Done  56 tasks      | elapsed:  8.2min\n",
      "[Parallel(n_jobs=-1)]: Done  77 tasks      | elapsed:  9.5min\n",
      "[Parallel(n_jobs=-1)]: Done  98 tasks      | elapsed: 11.3min\n",
      "[Parallel(n_jobs=-1)]: Done 121 tasks      | elapsed: 14.0min\n",
      "[Parallel(n_jobs=-1)]: Done 144 tasks      | elapsed: 15.7min\n",
      "[Parallel(n_jobs=-1)]: Done 169 tasks      | elapsed: 17.5min\n",
      "[Parallel(n_jobs=-1)]: Done 194 tasks      | elapsed: 19.0min\n",
      "[Parallel(n_jobs=-1)]: Done 221 tasks      | elapsed: 21.5min\n",
      "[Parallel(n_jobs=-1)]: Done 248 tasks      | elapsed: 24.0min\n",
      "[Parallel(n_jobs=-1)]: Done 277 tasks      | elapsed: 26.6min\n",
      "[Parallel(n_jobs=-1)]: Done 306 tasks      | elapsed: 28.7min\n",
      "[Parallel(n_jobs=-1)]: Done 337 tasks      | elapsed: 30.8min\n",
      "[Parallel(n_jobs=-1)]: Done 408 out of 500 | elapsed: 36.1min remaining:  8.1min\n",
      "[Parallel(n_jobs=-1)]: Done 459 out of 500 | elapsed: 40.5min remaining:  3.6min\n"
     ]
    },
    {
     "name": "stdout",
     "output_type": "stream",
     "text": [
      "Finished parallel excuting of 500 jobs in 0:47:38, time per job 0:00:06\n",
      "\n",
      "Initializing save\n",
      "All results saved to pickle: Results/Sobol/50-1 - dgp bigbatch- start 0 end 499 - drawtype sobol - ndraws 50- timestamp 2019-06-28-205228\n",
      "Fitting 500 datasets \n",
      "\n",
      "Executing code in parallel \n",
      "\n"
     ]
    },
    {
     "name": "stderr",
     "output_type": "stream",
     "text": [
      "[Parallel(n_jobs=-1)]: Done 500 out of 500 | elapsed: 47.6min finished\n",
      "[Parallel(n_jobs=-1)]: Using backend LokyBackend with 72 concurrent workers.\n",
      "[Parallel(n_jobs=-1)]: Done   1 tasks      | elapsed:  2.9min\n"
     ]
    }
   ],
   "source": [
    "# !pip install joblib ghalton pathvalidate\n",
    "from src.main import Mixedlogit, datasetloader \n",
    "\n",
    "dataset = datasetloader(\"n 1000 - seed 1234 - time 2019-06-20-134806.pickle\")\n",
    "\n",
    "mixedlogit = Mixedlogit(dataset, \"bigbatch\")\n",
    "\n",
    "\n",
    "mixedlogit.fit(drawtype=\"golden\", n_draws=25, verbose=1, save=\"Golden/25-1\", start=0, end=500, parallel=True)\n",
    "\n",
    "partitions = 2\n",
    "for i in range(partitions):\n",
    "    for r in [5, 10, 50, 75, 100]:\n",
    "        part = int(1000 / partitions)\n",
    "        start = part * i\n",
    "        end = part * (i+1)\n",
    "        mixedlogit.fit(drawtype=\"golden\", n_draws=r, verbose=1, save=\"Golden/\"+str(r)+\"-\"+str(i+1), start=start, end=end, parallel=True)\n",
    "        mixedlogit.fit(drawtype=\"sobol\", n_draws=r, verbose=1, save=\"Sobol/\"+str(r)+\"-\"+str(i+1), start=start, end=end, parallel=True)\n",
    "        \n",
    "mixedlogit.fit(drawtype=\"golden\", n_draws=25, verbose=1, save=\"Golden/25-2\", start=500, end=1000, parallel=True)\n",
    "mixedlogit.fit(drawtype=\"sobol\", n_draws=25, verbose=1, save=\"Sobol/25-2\", start=500, end=1000, parallel=True)\n"
   ]
  }
 ],
 "metadata": {
  "kernelspec": {
   "display_name": "conda_python3",
   "language": "python",
   "name": "conda_python3"
  },
  "language_info": {
   "codemirror_mode": {
    "name": "ipython",
    "version": 3
   },
   "file_extension": ".py",
   "mimetype": "text/x-python",
   "name": "python",
   "nbconvert_exporter": "python",
   "pygments_lexer": "ipython3",
   "version": "3.6.5"
  }
 },
 "nbformat": 4,
 "nbformat_minor": 2
}
