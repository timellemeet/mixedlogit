{
 "cells": [
  {
   "cell_type": "markdown",
   "metadata": {},
   "source": [
    "Loading the data\n",
    "\n",
    "id: household\n",
    "\n",
    "Choices:  \n",
    "- heinz41  \n",
    "- heinz32  \n",
    "- heinz28  \n",
    "- hunts32  \n",
    "\n",
    "variables  \n",
    "- disp (1/0)  \n",
    "- feat (1/0)  \n",
    "- price (Log?)  "
   ]
  },
  {
   "cell_type": "code",
   "execution_count": 19,
   "metadata": {},
   "outputs": [
    {
     "data": {
      "text/html": [
       "<div>\n",
       "<style scoped>\n",
       "    .dataframe tbody tr th:only-of-type {\n",
       "        vertical-align: middle;\n",
       "    }\n",
       "\n",
       "    .dataframe tbody tr th {\n",
       "        vertical-align: top;\n",
       "    }\n",
       "\n",
       "    .dataframe thead th {\n",
       "        text-align: right;\n",
       "    }\n",
       "</style>\n",
       "<table border=\"1\" class=\"dataframe\">\n",
       "  <thead>\n",
       "    <tr style=\"text-align: right;\">\n",
       "      <th></th>\n",
       "      <th>id</th>\n",
       "      <th>disp.heinz41</th>\n",
       "      <th>disp.heinz32</th>\n",
       "      <th>disp.heinz28</th>\n",
       "      <th>disp.hunts32</th>\n",
       "      <th>feat.heinz41</th>\n",
       "      <th>feat.heinz32</th>\n",
       "      <th>feat.heinz28</th>\n",
       "      <th>feat.hunts32</th>\n",
       "      <th>price.heinz41</th>\n",
       "      <th>price.heinz32</th>\n",
       "      <th>price.heinz28</th>\n",
       "      <th>price.hunts32</th>\n",
       "      <th>choice</th>\n",
       "      <th>choiceindex</th>\n",
       "    </tr>\n",
       "  </thead>\n",
       "  <tbody>\n",
       "    <tr>\n",
       "      <th>0</th>\n",
       "      <td>1</td>\n",
       "      <td>0</td>\n",
       "      <td>0</td>\n",
       "      <td>0</td>\n",
       "      <td>0</td>\n",
       "      <td>0</td>\n",
       "      <td>0</td>\n",
       "      <td>0</td>\n",
       "      <td>0</td>\n",
       "      <td>4.6</td>\n",
       "      <td>3.7</td>\n",
       "      <td>5.2</td>\n",
       "      <td>3.4</td>\n",
       "      <td>heinz28</td>\n",
       "      <td>2</td>\n",
       "    </tr>\n",
       "    <tr>\n",
       "      <th>1</th>\n",
       "      <td>1</td>\n",
       "      <td>0</td>\n",
       "      <td>0</td>\n",
       "      <td>0</td>\n",
       "      <td>0</td>\n",
       "      <td>0</td>\n",
       "      <td>0</td>\n",
       "      <td>0</td>\n",
       "      <td>0</td>\n",
       "      <td>4.6</td>\n",
       "      <td>4.3</td>\n",
       "      <td>5.2</td>\n",
       "      <td>4.4</td>\n",
       "      <td>heinz28</td>\n",
       "      <td>2</td>\n",
       "    </tr>\n",
       "    <tr>\n",
       "      <th>2</th>\n",
       "      <td>1</td>\n",
       "      <td>0</td>\n",
       "      <td>0</td>\n",
       "      <td>0</td>\n",
       "      <td>0</td>\n",
       "      <td>0</td>\n",
       "      <td>1</td>\n",
       "      <td>0</td>\n",
       "      <td>0</td>\n",
       "      <td>4.6</td>\n",
       "      <td>2.5</td>\n",
       "      <td>4.6</td>\n",
       "      <td>4.8</td>\n",
       "      <td>heinz28</td>\n",
       "      <td>2</td>\n",
       "    </tr>\n",
       "    <tr>\n",
       "      <th>3</th>\n",
       "      <td>1</td>\n",
       "      <td>0</td>\n",
       "      <td>0</td>\n",
       "      <td>0</td>\n",
       "      <td>0</td>\n",
       "      <td>0</td>\n",
       "      <td>0</td>\n",
       "      <td>0</td>\n",
       "      <td>0</td>\n",
       "      <td>4.6</td>\n",
       "      <td>3.7</td>\n",
       "      <td>5.2</td>\n",
       "      <td>3.4</td>\n",
       "      <td>heinz28</td>\n",
       "      <td>2</td>\n",
       "    </tr>\n",
       "    <tr>\n",
       "      <th>4</th>\n",
       "      <td>1</td>\n",
       "      <td>0</td>\n",
       "      <td>0</td>\n",
       "      <td>0</td>\n",
       "      <td>0</td>\n",
       "      <td>0</td>\n",
       "      <td>0</td>\n",
       "      <td>1</td>\n",
       "      <td>0</td>\n",
       "      <td>4.6</td>\n",
       "      <td>3.0</td>\n",
       "      <td>4.6</td>\n",
       "      <td>4.8</td>\n",
       "      <td>heinz28</td>\n",
       "      <td>2</td>\n",
       "    </tr>\n",
       "  </tbody>\n",
       "</table>\n",
       "</div>"
      ],
      "text/plain": [
       "   id  disp.heinz41  disp.heinz32  disp.heinz28  disp.hunts32  feat.heinz41  \\\n",
       "0   1             0             0             0             0             0   \n",
       "1   1             0             0             0             0             0   \n",
       "2   1             0             0             0             0             0   \n",
       "3   1             0             0             0             0             0   \n",
       "4   1             0             0             0             0             0   \n",
       "\n",
       "   feat.heinz32  feat.heinz28  feat.hunts32  price.heinz41  price.heinz32  \\\n",
       "0             0             0             0            4.6            3.7   \n",
       "1             0             0             0            4.6            4.3   \n",
       "2             1             0             0            4.6            2.5   \n",
       "3             0             0             0            4.6            3.7   \n",
       "4             0             1             0            4.6            3.0   \n",
       "\n",
       "   price.heinz28  price.hunts32   choice  choiceindex  \n",
       "0            5.2            3.4  heinz28            2  \n",
       "1            5.2            4.4  heinz28            2  \n",
       "2            4.6            4.8  heinz28            2  \n",
       "3            5.2            3.4  heinz28            2  \n",
       "4            4.6            4.8  heinz28            2  "
      ]
     },
     "execution_count": 19,
     "metadata": {},
     "output_type": "execute_result"
    }
   ],
   "source": [
    "import numpy as np\n",
    "import pandas as pd\n",
    "df = pd.read_pickle(\"data.pkl\") \n",
    "df.head()\n",
    "# choices = ['heinz41', 'heinz32', 'heinz28', 'hunts32']\n",
    "# df['choiceindex'] = list(map(lambda x: choices.index(x), df.choice))\n"
   ]
  },
  {
   "cell_type": "code",
   "execution_count": 213,
   "metadata": {},
   "outputs": [
    {
     "name": "stdout",
     "output_type": "stream",
     "text": [
      "Wall time: 0 ns\n"
     ]
    }
   ],
   "source": [
    "%%time\n",
    "def likelihood(c, data, draws):\n",
    "    def sigmoid(row):\n",
    "        def utility(alpha, choice):\n",
    "            x = [row[1+choice], row[5+choice], row[9+choice]]\n",
    "            return np.exp(alpha +  np.dot(c[3:6],x) + np.dot(np.multiply(c[6:],draws[row.id-1]),x))\n",
    "        \n",
    "        choices = [\n",
    "        utility(c[0], 0), # heinz41\n",
    "        utility(c[1],1), #heinz32\n",
    "        utility(c[2],2), #heinz28\n",
    "        utility(0,3) #huts32\n",
    "        ]\n",
    "        \n",
    "        return choices[row.choiceindex] / np.sum(choices)\n",
    "    \n",
    "    return data.agg(sigmoid, axis=\"columns\").sum()"
   ]
  },
  {
   "cell_type": "code",
   "execution_count": 216,
   "metadata": {},
   "outputs": [
    {
     "name": "stdout",
     "output_type": "stream",
     "text": [
      "Wall time: 1min 1s\n"
     ]
    }
   ],
   "source": [
    "%%time\n",
    "np.random.seed(1234)\n",
    "draws = np.random.randn(300, 3); \n",
    "\n",
    "coefficients = [1, #alpha heinz41\n",
    "                3, #alpha heinz32 \n",
    "                2, #alpha hunts32\n",
    "                2, #mu    display\n",
    "                4, #mu    feat\n",
    "                \n",
    "                8, #mu    price\n",
    "                3, #sigma dispay \n",
    "                1, #sigma feat \n",
    "                2, #sigma price \n",
    "                ]\n",
    "\n",
    "for i in range(0,100):\n",
    "    likelihood(coefficients, df, draws)"
   ]
  },
  {
   "cell_type": "code",
   "execution_count": 159,
   "metadata": {},
   "outputs": [
    {
     "name": "stdout",
     "output_type": "stream",
     "text": [
      "[1, 2, 3]\n",
      "[4, 5, 6]\n",
      "[7, 8, 9]\n"
     ]
    }
   ],
   "source": [
    "20 11\n",
    "50 30\n",
    "100 5\n",
    "\n",
    "\n",
    "# draws = np.random.randn(300, 3); \n",
    "\n",
    "# draws\n",
    "coefficients = [1, #alpha heinz41\n",
    "                2, #alpha heinz32 \n",
    "                3, #alpha hunts32\n",
    "                4, #mu    display\n",
    "                5, #mu    feat\n",
    "                6, #mu    price\n",
    "                7, #sigma dispay \n",
    "                8, #sigma feat \n",
    "                9, #sigma price \n",
    "                ]\n",
    "\n",
    "\n",
    "print(coefficients[:3])\n",
    "print(coefficients[3:6])\n",
    "print(coefficients[6:])"
   ]
  },
  {
   "cell_type": "code",
   "execution_count": 162,
   "metadata": {},
   "outputs": [
    {
     "data": {
      "text/plain": [
       "array([ 2,  6, 12])"
      ]
     },
     "execution_count": 162,
     "metadata": {},
     "output_type": "execute_result"
    }
   ],
   "source": [
    "a = [1,2,3]\n",
    "b = [2,3,4]\n",
    "\n",
    "np.multiply(a,b)"
   ]
  }
 ],
 "metadata": {
  "kernelspec": {
   "display_name": "Python 3",
   "language": "python",
   "name": "python3"
  },
  "language_info": {
   "codemirror_mode": {
    "name": "ipython",
    "version": 3
   },
   "file_extension": ".py",
   "mimetype": "text/x-python",
   "name": "python",
   "nbconvert_exporter": "python",
   "pygments_lexer": "ipython3",
   "version": "3.7.1"
  }
 },
 "nbformat": 4,
 "nbformat_minor": 2
}
