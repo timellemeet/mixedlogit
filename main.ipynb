{
 "cells": [
  {
   "cell_type": "markdown",
   "metadata": {},
   "source": [
    "id: household\n",
    "\n",
    "Choices:  \n",
    "- heinz41  \n",
    "- heinz32  \n",
    "- heinz28  \n",
    "- hunts32  \n",
    "\n",
    "variables  \n",
    "- disp (1/0)  \n",
    "- feat (1/0)  \n",
    "- price (Log?)  "
   ]
  },
  {
   "cell_type": "markdown",
   "metadata": {},
   "source": [
    "Loading the dataset"
   ]
  },
  {
   "cell_type": "code",
   "execution_count": 2,
   "metadata": {},
   "outputs": [],
   "source": [
    "import pickle\n",
    "dataset = pickle.load(open(\"datasets/n 300 - seed 1234 - time 2019-06-19-153241.pickle\",\"rb\"))"
   ]
  },
  {
   "cell_type": "markdown",
   "metadata": {},
   "source": [
    "Describing the data"
   ]
  },
  {
   "cell_type": "markdown",
   "metadata": {},
   "source": [
    "Running the model"
   ]
  },
  {
   "cell_type": "code",
   "execution_count": 6,
   "metadata": {},
   "outputs": [],
   "source": [
    "from src.main import Mixedlogit, datasetloader \n",
    "\n",
    "dataset = datasetloader(\"n 1000 - seed 1234 - time 2019-06-20-134806.pickle\")\n",
    "\n",
    "mixedlogit = Mixedlogit(dataset, \"bigbatch\")\n",
    "\n",
    "# #ndraws 50\n",
    "mixedlogit.fit(drawtype=\"pseudo\", n_draws=50, verbose=1, save=\"Base/parallel-1\", start=0, end=200, parallel=True)\n",
    "mixedlogit.fit(drawtype=\"pseudo\", n_draws=50, verbose=1, save=\"Base/parallel-2\", start=200, end=400, parallel=True)\n",
    "mixedlogit.fit(drawtype=\"pseudo\", n_draws=50, verbose=1, save=\"Base/parallel-3\", start=400, end=600, parallel=True)\n",
    "mixedlogit.fit(drawtype=\"pseudo\", n_draws=50, verbose=1, save=\"Base/parallel-4\", start=600, end=800, parallel=True)\n",
    "mixedlogit.fit(drawtype=\"pseudo\", n_draws=50, verbose=1, save=\"Base/parallel-5\", start=800, end=1000, parallel=True)\n",
    "\n",
    "# #ndraws 100\n",
    "mixedlogit.fit(drawtype=\"pseudo\", n_draws=100, verbose=1, save=\"Base/parallel-1\", start=0, end=200, parallel=True)\n",
    "mixedlogit.fit(drawtype=\"pseudo\", n_draws=100, verbose=1, save=\"Base/parallel-2\", start=200, end=400, parallel=True)\n",
    "mixedlogit.fit(drawtype=\"pseudo\", n_draws=100, verbose=1, save=\"Base/parallel-3\", start=400, end=600, parallel=True)\n",
    "mixedlogit.fit(drawtype=\"pseudo\", n_draws=100, verbose=1, save=\"Base/parallel-4\", start=600, end=800, parallel=True)\n",
    "mixedlogit.fit(drawtype=\"pseudo\", n_draws=100, verbose=1, save=\"Base/parallel-5\", start=800, end=1000, parallel=True)"
   ]
  },
  {
   "cell_type": "code",
   "execution_count": null,
   "metadata": {},
   "outputs": [
    {
     "name": "stdout",
     "output_type": "stream",
     "text": [
      "Fitting 200 datasets \n",
      "\n",
      "Executing code in parallel \n",
      "\n"
     ]
    },
    {
     "name": "stderr",
     "output_type": "stream",
     "text": [
      "[Parallel(n_jobs=-1)]: Using backend LokyBackend with 72 concurrent workers.\n",
      "[Parallel(n_jobs=-1)]: Done   1 tasks      | elapsed: 12.8min\n"
     ]
    }
   ],
   "source": [
    "from src.main import Mixedlogit, datasetloader \n",
    "\n",
    "dataset = datasetloader(\"n 1000 - seed 1234 - time 2019-06-20-134806.pickle\")\n",
    "\n",
    "mixedlogit = Mixedlogit(dataset, \"bigbatch\")\n",
    "\n",
    "\n",
    "mixedlogit.fit(drawtype=\"pseudo\", n_draws=250, verbose=1, save=\"Big/250\", start=0, end=200, parallel=True)\n",
    "\n",
    "mixedlogit.fit(drawtype=\"pseudo\", n_draws=500, verbose=1, save=\"Big/500\", start=0, end=200, parallel=True)\n",
    "\n",
    "mixedlogit.fit(drawtype=\"pseudo\", n_draws=1000, verbose=1, save=\"Big/1000\", start=0, end=200, parallel=True)\n",
    "\n",
    "mixedlogit.fit(drawtype=\"pseudo\", n_draws=2000, verbose=1, save=\"Big/2000\", start=0, end=200, parallel=True)"
   ]
  }
 ],
 "metadata": {
  "kernelspec": {
   "display_name": "conda_python3",
   "language": "python",
   "name": "conda_python3"
  },
  "language_info": {
   "codemirror_mode": {
    "name": "ipython",
    "version": 3
   },
   "file_extension": ".py",
   "mimetype": "text/x-python",
   "name": "python",
   "nbconvert_exporter": "python",
   "pygments_lexer": "ipython3",
   "version": "3.6.5"
  }
 },
 "nbformat": 4,
 "nbformat_minor": 2
}
