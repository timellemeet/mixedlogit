{
 "cells": [
  {
   "cell_type": "markdown",
   "metadata": {},
   "source": [
    "Loading the data\n",
    "\n",
    "id: household\n",
    "\n",
    "Choices:  \n",
    "- heinz41  \n",
    "- heinz32  \n",
    "- heinz28  \n",
    "- hunts32  \n",
    "\n",
    "variables  \n",
    "- disp (1/0)  \n",
    "- feat (1/0)  \n",
    "- price (Log?)  "
   ]
  },
  {
   "cell_type": "code",
   "execution_count": 8,
   "metadata": {},
   "outputs": [
    {
     "data": {
      "text/html": [
       "<div>\n",
       "<style scoped>\n",
       "    .dataframe tbody tr th:only-of-type {\n",
       "        vertical-align: middle;\n",
       "    }\n",
       "\n",
       "    .dataframe tbody tr th {\n",
       "        vertical-align: top;\n",
       "    }\n",
       "\n",
       "    .dataframe thead th {\n",
       "        text-align: right;\n",
       "    }\n",
       "</style>\n",
       "<table border=\"1\" class=\"dataframe\">\n",
       "  <thead>\n",
       "    <tr style=\"text-align: right;\">\n",
       "      <th></th>\n",
       "      <th>id</th>\n",
       "      <th>disp.heinz41</th>\n",
       "      <th>disp.heinz32</th>\n",
       "      <th>disp.heinz28</th>\n",
       "      <th>disp.hunts32</th>\n",
       "      <th>feat.heinz41</th>\n",
       "      <th>feat.heinz32</th>\n",
       "      <th>feat.heinz28</th>\n",
       "      <th>feat.hunts32</th>\n",
       "      <th>price.heinz41</th>\n",
       "      <th>price.heinz32</th>\n",
       "      <th>price.heinz28</th>\n",
       "      <th>price.hunts32</th>\n",
       "      <th>choice</th>\n",
       "      <th>choiceindex</th>\n",
       "    </tr>\n",
       "  </thead>\n",
       "  <tbody>\n",
       "    <tr>\n",
       "      <th>0</th>\n",
       "      <td>1</td>\n",
       "      <td>0</td>\n",
       "      <td>0</td>\n",
       "      <td>0</td>\n",
       "      <td>0</td>\n",
       "      <td>0</td>\n",
       "      <td>0</td>\n",
       "      <td>0</td>\n",
       "      <td>0</td>\n",
       "      <td>4.6</td>\n",
       "      <td>3.7</td>\n",
       "      <td>5.2</td>\n",
       "      <td>3.4</td>\n",
       "      <td>heinz28</td>\n",
       "      <td>2</td>\n",
       "    </tr>\n",
       "    <tr>\n",
       "      <th>1</th>\n",
       "      <td>1</td>\n",
       "      <td>0</td>\n",
       "      <td>0</td>\n",
       "      <td>0</td>\n",
       "      <td>0</td>\n",
       "      <td>0</td>\n",
       "      <td>0</td>\n",
       "      <td>0</td>\n",
       "      <td>0</td>\n",
       "      <td>4.6</td>\n",
       "      <td>4.3</td>\n",
       "      <td>5.2</td>\n",
       "      <td>4.4</td>\n",
       "      <td>heinz28</td>\n",
       "      <td>2</td>\n",
       "    </tr>\n",
       "    <tr>\n",
       "      <th>2</th>\n",
       "      <td>1</td>\n",
       "      <td>0</td>\n",
       "      <td>0</td>\n",
       "      <td>0</td>\n",
       "      <td>0</td>\n",
       "      <td>0</td>\n",
       "      <td>1</td>\n",
       "      <td>0</td>\n",
       "      <td>0</td>\n",
       "      <td>4.6</td>\n",
       "      <td>2.5</td>\n",
       "      <td>4.6</td>\n",
       "      <td>4.8</td>\n",
       "      <td>heinz28</td>\n",
       "      <td>2</td>\n",
       "    </tr>\n",
       "    <tr>\n",
       "      <th>3</th>\n",
       "      <td>1</td>\n",
       "      <td>0</td>\n",
       "      <td>0</td>\n",
       "      <td>0</td>\n",
       "      <td>0</td>\n",
       "      <td>0</td>\n",
       "      <td>0</td>\n",
       "      <td>0</td>\n",
       "      <td>0</td>\n",
       "      <td>4.6</td>\n",
       "      <td>3.7</td>\n",
       "      <td>5.2</td>\n",
       "      <td>3.4</td>\n",
       "      <td>heinz28</td>\n",
       "      <td>2</td>\n",
       "    </tr>\n",
       "    <tr>\n",
       "      <th>4</th>\n",
       "      <td>1</td>\n",
       "      <td>0</td>\n",
       "      <td>0</td>\n",
       "      <td>0</td>\n",
       "      <td>0</td>\n",
       "      <td>0</td>\n",
       "      <td>0</td>\n",
       "      <td>1</td>\n",
       "      <td>0</td>\n",
       "      <td>4.6</td>\n",
       "      <td>3.0</td>\n",
       "      <td>4.6</td>\n",
       "      <td>4.8</td>\n",
       "      <td>heinz28</td>\n",
       "      <td>2</td>\n",
       "    </tr>\n",
       "  </tbody>\n",
       "</table>\n",
       "</div>"
      ],
      "text/plain": [
       "   id  disp.heinz41  disp.heinz32  disp.heinz28  disp.hunts32  feat.heinz41  \\\n",
       "0   1             0             0             0             0             0   \n",
       "1   1             0             0             0             0             0   \n",
       "2   1             0             0             0             0             0   \n",
       "3   1             0             0             0             0             0   \n",
       "4   1             0             0             0             0             0   \n",
       "\n",
       "   feat.heinz32  feat.heinz28  feat.hunts32  price.heinz41  price.heinz32  \\\n",
       "0             0             0             0            4.6            3.7   \n",
       "1             0             0             0            4.6            4.3   \n",
       "2             1             0             0            4.6            2.5   \n",
       "3             0             0             0            4.6            3.7   \n",
       "4             0             1             0            4.6            3.0   \n",
       "\n",
       "   price.heinz28  price.hunts32   choice  choiceindex  \n",
       "0            5.2            3.4  heinz28            2  \n",
       "1            5.2            4.4  heinz28            2  \n",
       "2            4.6            4.8  heinz28            2  \n",
       "3            5.2            3.4  heinz28            2  \n",
       "4            4.6            4.8  heinz28            2  "
      ]
     },
     "execution_count": 8,
     "metadata": {},
     "output_type": "execute_result"
    }
   ],
   "source": [
    "import pandas as pd\n",
    "df = pd.read_pickle(\"data.pkl\") \n",
    "df.head()"
   ]
  },
  {
   "cell_type": "markdown",
   "metadata": {},
   "source": [
    "Test split for experimenting with predicting accuracies"
   ]
  },
  {
   "cell_type": "code",
   "execution_count": 6,
   "metadata": {},
   "outputs": [],
   "source": [
    "from sklearn.linear_model import LogisticRegression\n",
    "from sklearn.model_selection  import train_test_split\n",
    "\n",
    "y = df.choice\n",
    "X = df.iloc[:,1:13]\n",
    "X_train,X_test,y_train,y_test=train_test_split(X,y,test_size=0.25,random_state=0)"
   ]
  },
  {
   "cell_type": "markdown",
   "metadata": {},
   "source": [
    "Predictions with standard multivariate logit"
   ]
  },
  {
   "cell_type": "code",
   "execution_count": 7,
   "metadata": {},
   "outputs": [
    {
     "name": "stdout",
     "output_type": "stream",
     "text": [
      "0.6429592566118656\n",
      "Accuracy: 0.6557142857142857\n"
     ]
    }
   ],
   "source": [
    "predlogreg = LogisticRegression(max_iter=10000, solver='lbfgs', multi_class='multinomial')\n",
    "\n",
    "# fit the model with data\n",
    "predlogreg.fit(X_train,y_train)\n",
    "\n",
    "#\n",
    "y_pred=predlogreg.predict(X_test)\n",
    "\n",
    "print(predlogreg.score(X,y))\n",
    "from sklearn import metrics\n",
    "cnf_matrix = metrics.confusion_matrix(y_test, y_pred)\n",
    "cnf_matrix\n",
    "\n",
    "print(\"Accuracy:\",metrics.accuracy_score(y_test, y_pred))"
   ]
  },
  {
   "cell_type": "markdown",
   "metadata": {},
   "source": [
    "Fitting the standard logit model on all the data for reference parameters\n",
    "\n",
    "Coeffecients are given per variable per choice"
   ]
  },
  {
   "cell_type": "code",
   "execution_count": 11,
   "metadata": {},
   "outputs": [
    {
     "name": "stdout",
     "output_type": "stream",
     "text": [
      "[[-1.97516221e-01  3.19455522e-01  7.19765383e-01  1.72855594e-01\n",
      "  -4.15806889e-01  7.81821252e-02  8.59873555e-01  4.64034166e-02\n",
      "   3.59006982e-01  4.70929401e-01 -6.74109612e-01  5.94767201e-01]\n",
      " [-7.12641269e-01  5.57166768e-01 -3.65266700e-01 -2.00107756e-01\n",
      "   2.52072172e-02  5.98804428e-01 -1.90059722e-01 -6.25028874e-01\n",
      "   9.03014550e-02 -1.67962936e+00  2.60210726e-01  7.31644431e-01]\n",
      " [ 8.11124252e-01 -6.30309651e-01 -3.52919610e-01 -3.67312936e-01\n",
      "   3.78331745e-01 -7.94818524e-01 -8.26180989e-01 -4.22871527e-01\n",
      "  -8.25742223e-01  1.41973319e-01 -4.89470926e-02  4.10994430e-01]\n",
      " [ 9.90332381e-02 -2.46312640e-01 -1.57907167e-03  3.94565099e-01\n",
      "   1.22679269e-02  1.17831970e-01  1.56367156e-01  1.00149698e+00\n",
      "   3.76433787e-01  1.06672664e+00  4.62845979e-01 -1.73740606e+00]]\n",
      "[-1.74702209  2.62645157  1.40361334 -2.28304282]\n"
     ]
    }
   ],
   "source": [
    "logreg = LogisticRegression(max_iter=10000, solver='lbfgs', multi_class='multinomial')\n",
    "\n",
    "logreg.fit(X,y)\n",
    "\n",
    "print(logreg.coef_)\n",
    "print(logreg.intercept_)"
   ]
  },
  {
   "cell_type": "markdown",
   "metadata": {},
   "source": [
    "Conditional logit  \n",
    "https://github.com/timothyb0912/pylogit/blob/master/examples/notebooks/Mixed%20Logit%20Example--mlogit%20Benchmark--Electricity.ipynb"
   ]
  },
  {
   "cell_type": "code",
   "execution_count": 12,
   "metadata": {},
   "outputs": [
    {
     "name": "stdout",
     "output_type": "stream",
     "text": [
      "<module 'pylogit' from 'C:\\\\Users\\\\Tim\\\\Anaconda3\\\\lib\\\\site-packages\\\\pylogit\\\\__init__.py'>\n"
     ]
    }
   ],
   "source": [
    "#!pip install pylogit\n",
    "import pylogit as pl                   # For choice model estimation\n",
    "print(pl)"
   ]
  },
  {
   "cell_type": "code",
   "execution_count": 2,
   "metadata": {},
   "outputs": [],
   "source": [
    "import pickle\n",
    "example_dict = pickle.load(open(\"datasets/n 1000 - seed 1234 - time 2019-06-17-172843.pickle\",\"rb\"))\n",
    "example_dict['data'][45].head()\n",
    "\n",
    "y = example_dict['data'][45].choice\n",
    "X = example_dict['data'][45].iloc[:,1:13]"
   ]
  },
  {
   "cell_type": "code",
   "execution_count": 4,
   "metadata": {},
   "outputs": [
    {
     "name": "stdout",
     "output_type": "stream",
     "text": [
      "[[-0.50060177 -0.06069759  0.70201887  0.46363556 -0.89549786  0.68571234\n",
      "   0.29544612 -0.56894825  1.0724466  -0.46135689 -1.79216897  1.00689472]\n",
      " [ 0.08087578  0.96907468 -0.11625207 -0.81389879 -0.14674233  0.39733901\n",
      "  -0.36280702 -0.73148959  1.04590747 -2.42457906  0.80191178  1.17607137]\n",
      " [ 1.00536708 -0.21375057 -0.67695608 -0.58542098  2.24786165 -0.40004527\n",
      "  -0.29668828  0.88574123 -2.56755665  0.42495609  0.37777995  1.27702298]\n",
      " [-0.5856411  -0.69462652  0.09118928  0.93568422 -1.20562147 -0.68300608\n",
      "   0.36404918  0.41469661  0.44920258  2.46097986  0.61247724 -3.45998907]]\n",
      "[ 1.73485899 -1.98824252  2.72693687 -2.47355333]\n"
     ]
    }
   ],
   "source": [
    "from sklearn.linear_model import LogisticRegression\n",
    "logreg = LogisticRegression(max_iter=10000, solver='lbfgs', multi_class='multinomial')\n",
    "\n",
    "logreg.fit(X,y)\n",
    "\n",
    "print(logreg.coef_)\n",
    "print(logreg.intercept_)"
   ]
  },
  {
   "cell_type": "code",
   "execution_count": 6,
   "metadata": {},
   "outputs": [
    {
     "ename": "NameError",
     "evalue": "name 'np' is not defined",
     "output_type": "error",
     "traceback": [
      "\u001b[1;31m---------------------------------------------------------------------------\u001b[0m",
      "\u001b[1;31mNameError\u001b[0m                                 Traceback (most recent call last)",
      "\u001b[1;32m<ipython-input-6-e4485014005a>\u001b[0m in \u001b[0;36m<module>\u001b[1;34m\u001b[0m\n\u001b[0;32m      2\u001b[0m  -28.72422184, -41.66821782,  -3.22871123,  24.08961985]\n\u001b[0;32m      3\u001b[0m \u001b[1;33m\u001b[0m\u001b[0m\n\u001b[1;32m----> 4\u001b[1;33m \u001b[0mnp\u001b[0m\u001b[1;33m.\u001b[0m\u001b[0mmultiply\u001b[0m\u001b[1;33m(\u001b[0m\u001b[0mres2\u001b[0m\u001b[1;33m,\u001b[0m \u001b[1;36m1.8\u001b[0m\u001b[1;33m/\u001b[0m\u001b[0mres2\u001b[0m\u001b[1;33m[\u001b[0m\u001b[1;36m0\u001b[0m\u001b[1;33m]\u001b[0m\u001b[1;33m)\u001b[0m\u001b[1;33m\u001b[0m\u001b[1;33m\u001b[0m\u001b[0m\n\u001b[0m",
      "\u001b[1;31mNameError\u001b[0m: name 'np' is not defined"
     ]
    }
   ],
   "source": [
    "import numpy \n",
    "res2 = [ 34.02288442,  22.55841664,  38.385831,    59.31164747,  23.42759639,\n",
    " -28.72422184, -41.66821782,  -3.22871123,  24.08961985]\n",
    "\n",
    "np.multiply(res2, 1.8/res2[0])"
   ]
  },
  {
   "cell_type": "code",
   "execution_count": 5,
   "metadata": {},
   "outputs": [
    {
     "data": {
      "text/plain": [
       "<bound method BaseContext.cpu_count of <multiprocessing.context.DefaultContext object at 0x000001929798FB38>>"
      ]
     },
     "execution_count": 5,
     "metadata": {},
     "output_type": "execute_result"
    }
   ],
   "source": [
    "\n",
    "cpu_count()\n"
   ]
  }
 ],
 "metadata": {
  "kernelspec": {
   "display_name": "Python 3",
   "language": "python",
   "name": "python3"
  },
  "language_info": {
   "codemirror_mode": {
    "name": "ipython",
    "version": 3
   },
   "file_extension": ".py",
   "mimetype": "text/x-python",
   "name": "python",
   "nbconvert_exporter": "python",
   "pygments_lexer": "ipython3",
   "version": "3.7.3"
  }
 },
 "nbformat": 4,
 "nbformat_minor": 2
}
