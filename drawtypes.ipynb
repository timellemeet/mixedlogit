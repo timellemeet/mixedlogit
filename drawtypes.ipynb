{
 "cells": [
  {
   "cell_type": "markdown",
   "metadata": {},
   "source": [
    "An overview of the different drawtypes used\n",
    "\n",
    "Initial parameters"
   ]
  },
  {
   "cell_type": "code",
   "execution_count": 19,
   "metadata": {},
   "outputs": [],
   "source": [
    "# !pip install matplotlib2tikz\n",
    "%matplotlib inline\n",
    "import matplotlib.pyplot as plt\n",
    "from mpl_toolkits.mplot3d import axes3d, Axes3D #<-- Note the capitalization! \n",
    "from matplotlib import style\n",
    "import matplotlib2tikz\n",
    "import numpy as np\n",
    "\n",
    "n_r = 10 #draws per household\n",
    "n_q = 10 #number of households\n",
    "n_k = 2 #number of variables/dimensions\n",
    "\n",
    "def visualize(draws, title=None, save=False):\n",
    "    fig = plt.figure()\n",
    "    style.use('ggplot')\n",
    "    if n_k == 2:\n",
    "        x = draws[:, :, 0].flatten()\n",
    "        y = draws[:, :, 1].flatten()\n",
    "        plt.style.use('seaborn-whitegrid')\n",
    "        plt.plot(x, y, 'o', color='black', markersize=4);\n",
    "        plt.xlabel('dimension 1')\n",
    "        plt.ylabel('dimension 2')\n",
    "        plt.title(title)\n",
    "        plt.grid(True)\n",
    "         \n",
    "        if save != False:  matplotlib2tikz.save(\"Tikz/\"+save)\n",
    "       \n",
    "        \n",
    "    elif nk == 3:\n",
    "        ax = Axes3D(fig)\n",
    "        x = draws[:, :, 0].flatten()\n",
    "        y = draws[:, :, 1].flatten()\n",
    "        z = draws[:, :, 2].flatten()\n",
    "        ax.scatter3D(x, y, z, c=z, cmap='Reds');"
   ]
  },
  {
   "cell_type": "markdown",
   "metadata": {},
   "source": [
    "Pseudo random"
   ]
  },
  {
   "cell_type": "code",
   "execution_count": 20,
   "metadata": {},
   "outputs": [
    {
     "data": {
      "image/png": "[encoded data removed]",
      "text/plain": [
       "<Figure size 432x288 with 1 Axes>"
      ]
     },
     "metadata": {},
     "output_type": "display_data"
    }
   ],
   "source": [
    "draws = np.random.rand(n_r, n_q, n_k)\n",
    "# display(draws)\n",
    "\n",
    "visualize(draws, title=\"Pseudo-random draws\", save=\"Pseudo 10 10\")"
   ]
  },
  {
   "cell_type": "markdown",
   "metadata": {},
   "source": [
    "Halton sequences"
   ]
  },
  {
   "cell_type": "code",
   "execution_count": 88,
   "metadata": {},
   "outputs": [
    {
     "data": {
      "image/png": "[encoded data removed]",
      "text/plain": [
       "<Figure size 432x288 with 1 Axes>"
      ]
     },
     "metadata": {},
     "output_type": "display_data"
    }
   ],
   "source": [
    "from scipy.stats import norm\n",
    "import ghalton\n",
    " #initialize sequencer with K dimensions\n",
    "sequencer = ghalton.Halton(n_k)\n",
    "            \n",
    "#make the draws and discard the 10 inital values to prevent issues\n",
    "halton = np.array(sequencer.get(n_q * n_r + 10)[10:])\n",
    "\n",
    "#make the result array\n",
    "draws = np.zeros((n_r, n_q, n_k))\n",
    "\n",
    "#assign the right probablilities\n",
    "for q in range(n_q):\n",
    "     for r in range(n_r):\n",
    "        draws[r, q, :] = halton[n_r * q + r,:]\n",
    "\n",
    "#convert to standard variates\n",
    "# draws = norm.ppf(draws)\n",
    "# display(draws)\n",
    "visualize(draws)"
   ]
  },
  {
   "cell_type": "markdown",
   "metadata": {},
   "source": [
    "Lattice points"
   ]
  },
  {
   "cell_type": "code",
   "execution_count": null,
   "metadata": {},
   "outputs": [],
   "source": []
  },
  {
   "cell_type": "markdown",
   "metadata": {},
   "source": [
    "(t,m,s)-nets"
   ]
  },
  {
   "cell_type": "code",
   "execution_count": null,
   "metadata": {},
   "outputs": [],
   "source": []
  },
  {
   "cell_type": "markdown",
   "metadata": {},
   "source": [
    "R2"
   ]
  },
  {
   "cell_type": "code",
   "execution_count": null,
   "metadata": {},
   "outputs": [],
   "source": []
  }
 ],
 "metadata": {
  "kernelspec": {
   "display_name": "conda_python3",
   "language": "python",
   "name": "conda_python3"
  },
  "language_info": {
   "codemirror_mode": {
    "name": "ipython",
    "version": 3
   },
   "file_extension": ".py",
   "mimetype": "text/x-python",
   "name": "python",
   "nbconvert_exporter": "python",
   "pygments_lexer": "ipython3",
   "version": "3.6.5"
  }
 },
 "nbformat": 4,
 "nbformat_minor": 2
}
