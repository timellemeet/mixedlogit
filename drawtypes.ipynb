{
 "cells": [
  {
   "cell_type": "markdown",
   "metadata": {},
   "source": [
    "An overview of the different drawtypes used\n",
    "\n",
    "Initial parameters"
   ]
  },
  {
   "cell_type": "code",
   "execution_count": 135,
   "metadata": {},
   "outputs": [],
   "source": [
    "#!pip install matplotlib2tikz\n",
    "%matplotlib inline\n",
    "import matplotlib.pyplot as plt\n",
    "from mpl_toolkits.mplot3d import axes3d, Axes3D #<-- Note the capitalization! \n",
    "from matplotlib import style\n",
    "import matplotlib2tikz\n",
    "import numpy as np\n",
    "\n",
    "n_r = 20 #draws per household\n",
    "n_q = 20 #number of households\n",
    "n_k = 2 #number of variables/dimensions\n",
    "\n",
    "def visualize(draws, title=None, save=False):\n",
    "    fig = plt.figure()\n",
    "    style.use('ggplot')\n",
    "    if n_k == 2:\n",
    "        x = draws[:, :, 0].flatten()\n",
    "        y = draws[:, :, 1].flatten()\n",
    "        plt.style.use('seaborn-whitegrid')\n",
    "        plt.plot(x, y, 'o', color='black', markersize=4);\n",
    "        plt.xlabel('dimension 1')\n",
    "        plt.ylabel('dimension 2')\n",
    "        plt.title(title)\n",
    "        plt.grid(True)\n",
    "         \n",
    "        if save != False:  matplotlib2tikz.save(\"Tikz/\"+save)\n",
    "       \n",
    "        \n",
    "    elif n_k == 3:\n",
    "        ax = Axes3D(fig)\n",
    "        x = draws[:, :, 0].flatten()\n",
    "        y = draws[:, :, 1].flatten()\n",
    "        z = draws[:, :, 2].flatten()\n",
    "        ax.scatter3D(x, y, z, c=z, cmap='Reds');"
   ]
  },
  {
   "cell_type": "markdown",
   "metadata": {},
   "source": [
    "Pseudo random"
   ]
  },
  {
   "cell_type": "code",
   "execution_count": 71,
   "metadata": {},
   "outputs": [
    {
     "data": {
      "image/png": "[encoded data removed]",
      "text/plain": [
       "<Figure size 432x288 with 1 Axes>"
      ]
     },
     "metadata": {
      "needs_background": "light"
     },
     "output_type": "display_data"
    }
   ],
   "source": [
    "draws = np.random.rand(n_r, n_q, n_k)\n",
    "# display(draws)\n",
    "\n",
    "visualize(draws, title=\"Pseudo-random draws\")"
   ]
  },
  {
   "cell_type": "markdown",
   "metadata": {},
   "source": [
    "Halton sequences"
   ]
  },
  {
   "cell_type": "code",
   "execution_count": 11,
   "metadata": {},
   "outputs": [
    {
     "name": "stdout",
     "output_type": "stream",
     "text": [
      "Collecting ghalton\n",
      "  Using cached https://files.pythonhosted.org/packages/36/d3/88ccf26adde4930247dd58367ba896d149579fcbbe381e278e7c9b25db09/ghalton-0.6.1.tar.gz\n",
      "Building wheels for collected packages: ghalton\n",
      "  Building wheel for ghalton (setup.py): started\n",
      "  Building wheel for ghalton (setup.py): finished with status 'error'\n",
      "  Complete output from command C:\\Users\\tim\\Anaconda3\\python.exe -u -c \"import setuptools, tokenize;__file__='C:\\\\Users\\\\tim\\\\AppData\\\\Local\\\\Temp\\\\pip-install-akgxh95b\\\\ghalton\\\\setup.py';f=getattr(tokenize, 'open', open)(__file__);code=f.read().replace('\\r\\n', '\\n');f.close();exec(compile(code, __file__, 'exec'))\" bdist_wheel -d C:\\Users\\tim\\AppData\\Local\\Temp\\pip-wheel-m_8947mn --python-tag cp37:\n",
      "  running bdist_wheel\n",
      "  running build\n",
      "  running build_py\n",
      "  creating build\n",
      "  creating build\\lib.win-amd64-3.7\n",
      "  creating build\\lib.win-amd64-3.7\\ghalton\n",
      "  copying ghalton\\constants.py -> build\\lib.win-amd64-3.7\\ghalton\n",
      "  copying ghalton\\ghalton_wrapper.py -> build\\lib.win-amd64-3.7\\ghalton\n",
      "  copying ghalton\\__init__.py -> build\\lib.win-amd64-3.7\\ghalton\n",
      "  running build_ext\n",
      "  building 'ghalton._ghalton_wrapper' extension\n",
      "  error: Microsoft Visual C++ 14.0 is required. Get it with \"Microsoft Visual C++ Build Tools\": https://visualstudio.microsoft.com/downloads/\n",
      "  \n",
      "  ----------------------------------------\n",
      "  Running setup.py clean for ghalton\n",
      "Failed to build ghalton\n",
      "Installing collected packages: ghalton\n",
      "  Running setup.py install for ghalton: started\n",
      "    Running setup.py install for ghalton: finished with status 'error'\n",
      "    Complete output from command C:\\Users\\tim\\Anaconda3\\python.exe -u -c \"import setuptools, tokenize;__file__='C:\\\\Users\\\\tim\\\\AppData\\\\Local\\\\Temp\\\\pip-install-akgxh95b\\\\ghalton\\\\setup.py';f=getattr(tokenize, 'open', open)(__file__);code=f.read().replace('\\r\\n', '\\n');f.close();exec(compile(code, __file__, 'exec'))\" install --record C:\\Users\\tim\\AppData\\Local\\Temp\\pip-record-tjx9zimi\\install-record.txt --single-version-externally-managed --compile:\n",
      "    running install\n",
      "    running build\n",
      "    running build_py\n",
      "    creating build\n",
      "    creating build\\lib.win-amd64-3.7\n",
      "    creating build\\lib.win-amd64-3.7\\ghalton\n",
      "    copying ghalton\\constants.py -> build\\lib.win-amd64-3.7\\ghalton\n",
      "    copying ghalton\\ghalton_wrapper.py -> build\\lib.win-amd64-3.7\\ghalton\n",
      "    copying ghalton\\__init__.py -> build\\lib.win-amd64-3.7\\ghalton\n",
      "    running build_ext\n",
      "    building 'ghalton._ghalton_wrapper' extension\n",
      "    error: Microsoft Visual C++ 14.0 is required. Get it with \"Microsoft Visual C++ Build Tools\": https://visualstudio.microsoft.com/downloads/\n",
      "    \n",
      "    ----------------------------------------\n"
     ]
    },
    {
     "name": "stderr",
     "output_type": "stream",
     "text": [
      "  Failed building wheel for ghalton\n",
      "Command \"C:\\Users\\tim\\Anaconda3\\python.exe -u -c \"import setuptools, tokenize;__file__='C:\\\\Users\\\\tim\\\\AppData\\\\Local\\\\Temp\\\\pip-install-akgxh95b\\\\ghalton\\\\setup.py';f=getattr(tokenize, 'open', open)(__file__);code=f.read().replace('\\r\\n', '\\n');f.close();exec(compile(code, __file__, 'exec'))\" install --record C:\\Users\\tim\\AppData\\Local\\Temp\\pip-record-tjx9zimi\\install-record.txt --single-version-externally-managed --compile\" failed with error code 1 in C:\\Users\\tim\\AppData\\Local\\Temp\\pip-install-akgxh95b\\ghalton\\\n"
     ]
    },
    {
     "ename": "ModuleNotFoundError",
     "evalue": "No module named 'ghalton'",
     "output_type": "error",
     "traceback": [
      "\u001b[1;31m---------------------------------------------------------------------------\u001b[0m",
      "\u001b[1;31mModuleNotFoundError\u001b[0m                       Traceback (most recent call last)",
      "\u001b[1;32m<ipython-input-11-975f4f9c0708>\u001b[0m in \u001b[0;36m<module>\u001b[1;34m\u001b[0m\n\u001b[0;32m      1\u001b[0m \u001b[0mget_ipython\u001b[0m\u001b[1;33m(\u001b[0m\u001b[1;33m)\u001b[0m\u001b[1;33m.\u001b[0m\u001b[0msystem\u001b[0m\u001b[1;33m(\u001b[0m\u001b[1;34m'pip install ghalton'\u001b[0m\u001b[1;33m)\u001b[0m\u001b[1;33m\u001b[0m\u001b[1;33m\u001b[0m\u001b[0m\n\u001b[0;32m      2\u001b[0m \u001b[1;32mfrom\u001b[0m \u001b[0mscipy\u001b[0m\u001b[1;33m.\u001b[0m\u001b[0mstats\u001b[0m \u001b[1;32mimport\u001b[0m \u001b[0mnorm\u001b[0m\u001b[1;33m\u001b[0m\u001b[1;33m\u001b[0m\u001b[0m\n\u001b[1;32m----> 3\u001b[1;33m \u001b[1;32mimport\u001b[0m \u001b[0mghalton\u001b[0m\u001b[1;33m\u001b[0m\u001b[1;33m\u001b[0m\u001b[0m\n\u001b[0m\u001b[0;32m      4\u001b[0m  \u001b[1;31m#initialize sequencer with K dimensions\u001b[0m\u001b[1;33m\u001b[0m\u001b[1;33m\u001b[0m\u001b[1;33m\u001b[0m\u001b[0m\n\u001b[0;32m      5\u001b[0m \u001b[0msequencer\u001b[0m \u001b[1;33m=\u001b[0m \u001b[0mghalton\u001b[0m\u001b[1;33m.\u001b[0m\u001b[0mHalton\u001b[0m\u001b[1;33m(\u001b[0m\u001b[0mn_k\u001b[0m\u001b[1;33m)\u001b[0m\u001b[1;33m\u001b[0m\u001b[1;33m\u001b[0m\u001b[0m\n",
      "\u001b[1;31mModuleNotFoundError\u001b[0m: No module named 'ghalton'"
     ]
    }
   ],
   "source": [
    "!pip install ghalton\n",
    "from scipy.stats import norm\n",
    "import ghalton\n",
    " #initialize sequencer with K dimensions\n",
    "sequencer = ghalton.Halton(n_k)\n",
    "            \n",
    "#make the draws and discard the 10 inital values to prevent issues\n",
    "halton = np.array(sequencer.get(n_q * n_r + 10)[10:])\n",
    "\n",
    "#make the result array\n",
    "draws = np.zeros((n_r, n_q, n_k))\n",
    "\n",
    "#assign the right probablilities\n",
    "for q in range(n_q):\n",
    "     for r in range(n_r):\n",
    "        draws[r, q, :] = halton[n_r * q + r,:]\n",
    "\n",
    "#convert to standard variates\n",
    "# draws = norm.ppf(draws)\n",
    "# display(draws)\n",
    "visualize(draws)"
   ]
  },
  {
   "cell_type": "markdown",
   "metadata": {},
   "source": [
    "Lattice points"
   ]
  },
  {
   "cell_type": "code",
   "execution_count": null,
   "metadata": {},
   "outputs": [],
   "source": []
  },
  {
   "cell_type": "markdown",
   "metadata": {},
   "source": [
    "(t,m,s)-nets"
   ]
  },
  {
   "cell_type": "code",
   "execution_count": null,
   "metadata": {},
   "outputs": [],
   "source": []
  },
  {
   "cell_type": "markdown",
   "metadata": {},
   "source": [
    "R2"
   ]
  },
  {
   "cell_type": "code",
   "execution_count": 162,
   "metadata": {},
   "outputs": [
    {
     "data": {
      "image/png": "[encoded data removed]",
      "text/plain": [
       "<Figure size 432x288 with 1 Axes>"
      ]
     },
     "metadata": {},
     "output_type": "display_data"
    }
   ],
   "source": [
    "#generalized definition of the golden ration\n",
    "def r2draws(n, d, seed=0.5): \n",
    "    def phi(d): \n",
    "        x=2\n",
    "        for i in range(100): \n",
    "            x = pow(1+x,1/(d+1)) \n",
    "        return x\n",
    "    \n",
    "    g = phi(d) \n",
    "    alpha = np.zeros(d) \n",
    "    for j in range(d): \n",
    "        alpha[j] = pow(1/g,j+1)  %1 # mod 1 \n",
    "\n",
    "    r2draws = np.zeros((n, d))\n",
    "    for i in range(n): \n",
    "          r2draws[i] = (seed + alpha*(i+1)) % 1 # mod 1 \n",
    "            \n",
    "    return r2draws\n",
    "\n",
    "#make the draws and discard the 10 inital values to prevent issues\n",
    "goldenr2 = np.array(r2draws(n_q * n_r, n_k))\n",
    "\n",
    "#make the result array\n",
    "draws = np.zeros((n_r, n_q, n_k))\n",
    "\n",
    "#assign the right probablilities\n",
    "for q in range(n_q):\n",
    "     for r in range(n_r):\n",
    "        draws[r, q, :] = goldenr2[n_r * q + r,:] \n",
    "\n",
    "\n",
    "visualize(draws)"
   ]
  },
  {
   "cell_type": "markdown",
   "metadata": {},
   "source": [
    "Sobol"
   ]
  },
  {
   "cell_type": "code",
   "execution_count": null,
   "metadata": {},
   "outputs": [],
   "source": []
  }
 ],
 "metadata": {
  "kernelspec": {
   "display_name": "Python 3",
   "language": "python",
   "name": "python3"
  },
  "language_info": {
   "codemirror_mode": {
    "name": "ipython",
    "version": 3
   },
   "file_extension": ".py",
   "mimetype": "text/x-python",
   "name": "python",
   "nbconvert_exporter": "python",
   "pygments_lexer": "ipython3",
   "version": "3.7.3"
  }
 },
 "nbformat": 4,
 "nbformat_minor": 2
}
